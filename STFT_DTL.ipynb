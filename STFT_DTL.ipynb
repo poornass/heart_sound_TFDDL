{
  "nbformat": 4,
  "nbformat_minor": 0,
  "metadata": {
    "colab": {
      "name": "STFT_DTL.ipynb",
      "provenance": []
    },
    "kernelspec": {
      "name": "python3",
      "display_name": "Python 3"
    },
    "language_info": {
      "name": "python"
    }
  },
  "cells": [
    {
      "cell_type": "code",
      "execution_count": null,
      "metadata": {
        "id": "qoHnhNar6LrJ",
        "colab": {
          "base_uri": "https://localhost:8080/"
        },
        "outputId": "444f464e-824f-45e7-bc86-f321b40f430e"
      },
      "outputs": [
        {
          "output_type": "stream",
          "name": "stdout",
          "text": [
            "Requirement already satisfied: autokeras in /usr/local/lib/python3.7/dist-packages (1.0.16.post1)\n",
            "Requirement already satisfied: keras-tuner<1.1,>=1.0.2 in /usr/local/lib/python3.7/dist-packages (from autokeras) (1.0.4)\n",
            "Requirement already satisfied: pandas in /usr/local/lib/python3.7/dist-packages (from autokeras) (1.1.5)\n",
            "Requirement already satisfied: scikit-learn in /usr/local/lib/python3.7/dist-packages (from autokeras) (1.0.1)\n",
            "Requirement already satisfied: packaging in /usr/local/lib/python3.7/dist-packages (from autokeras) (21.3)\n",
            "Requirement already satisfied: tensorflow<2.6,>=2.3.0 in /usr/local/lib/python3.7/dist-packages (from autokeras) (2.5.2)\n",
            "Requirement already satisfied: tensorboard in /usr/local/lib/python3.7/dist-packages (from keras-tuner<1.1,>=1.0.2->autokeras) (2.7.0)\n",
            "Requirement already satisfied: ipython in /usr/local/lib/python3.7/dist-packages (from keras-tuner<1.1,>=1.0.2->autokeras) (5.5.0)\n",
            "Requirement already satisfied: scipy in /usr/local/lib/python3.7/dist-packages (from keras-tuner<1.1,>=1.0.2->autokeras) (1.4.1)\n",
            "Requirement already satisfied: kt-legacy in /usr/local/lib/python3.7/dist-packages (from keras-tuner<1.1,>=1.0.2->autokeras) (1.0.4)\n",
            "Requirement already satisfied: requests in /usr/local/lib/python3.7/dist-packages (from keras-tuner<1.1,>=1.0.2->autokeras) (2.23.0)\n",
            "Requirement already satisfied: numpy in /usr/local/lib/python3.7/dist-packages (from keras-tuner<1.1,>=1.0.2->autokeras) (1.19.5)\n",
            "Requirement already satisfied: keras-preprocessing~=1.1.2 in /usr/local/lib/python3.7/dist-packages (from tensorflow<2.6,>=2.3.0->autokeras) (1.1.2)\n",
            "Requirement already satisfied: gast==0.4.0 in /usr/local/lib/python3.7/dist-packages (from tensorflow<2.6,>=2.3.0->autokeras) (0.4.0)\n",
            "Requirement already satisfied: wheel~=0.35 in /usr/local/lib/python3.7/dist-packages (from tensorflow<2.6,>=2.3.0->autokeras) (0.37.0)\n",
            "Requirement already satisfied: absl-py~=0.10 in /usr/local/lib/python3.7/dist-packages (from tensorflow<2.6,>=2.3.0->autokeras) (0.12.0)\n",
            "Requirement already satisfied: six~=1.15.0 in /usr/local/lib/python3.7/dist-packages (from tensorflow<2.6,>=2.3.0->autokeras) (1.15.0)\n",
            "Requirement already satisfied: wrapt~=1.12.1 in /usr/local/lib/python3.7/dist-packages (from tensorflow<2.6,>=2.3.0->autokeras) (1.12.1)\n",
            "Requirement already satisfied: google-pasta~=0.2 in /usr/local/lib/python3.7/dist-packages (from tensorflow<2.6,>=2.3.0->autokeras) (0.2.0)\n",
            "Requirement already satisfied: opt-einsum~=3.3.0 in /usr/local/lib/python3.7/dist-packages (from tensorflow<2.6,>=2.3.0->autokeras) (3.3.0)\n",
            "Requirement already satisfied: termcolor~=1.1.0 in /usr/local/lib/python3.7/dist-packages (from tensorflow<2.6,>=2.3.0->autokeras) (1.1.0)\n",
            "Requirement already satisfied: tensorflow-estimator<2.6.0,>=2.5.0 in /usr/local/lib/python3.7/dist-packages (from tensorflow<2.6,>=2.3.0->autokeras) (2.5.0)\n",
            "Requirement already satisfied: keras-nightly~=2.5.0.dev in /usr/local/lib/python3.7/dist-packages (from tensorflow<2.6,>=2.3.0->autokeras) (2.5.0.dev2021032900)\n",
            "Requirement already satisfied: protobuf>=3.9.2 in /usr/local/lib/python3.7/dist-packages (from tensorflow<2.6,>=2.3.0->autokeras) (3.17.3)\n",
            "Requirement already satisfied: grpcio~=1.34.0 in /usr/local/lib/python3.7/dist-packages (from tensorflow<2.6,>=2.3.0->autokeras) (1.34.1)\n",
            "Requirement already satisfied: astunparse~=1.6.3 in /usr/local/lib/python3.7/dist-packages (from tensorflow<2.6,>=2.3.0->autokeras) (1.6.3)\n",
            "Requirement already satisfied: flatbuffers~=1.12.0 in /usr/local/lib/python3.7/dist-packages (from tensorflow<2.6,>=2.3.0->autokeras) (1.12)\n",
            "Requirement already satisfied: typing-extensions~=3.7.4 in /usr/local/lib/python3.7/dist-packages (from tensorflow<2.6,>=2.3.0->autokeras) (3.7.4.3)\n",
            "Requirement already satisfied: h5py~=3.1.0 in /usr/local/lib/python3.7/dist-packages (from tensorflow<2.6,>=2.3.0->autokeras) (3.1.0)\n",
            "Requirement already satisfied: cached-property in /usr/local/lib/python3.7/dist-packages (from h5py~=3.1.0->tensorflow<2.6,>=2.3.0->autokeras) (1.5.2)\n",
            "Requirement already satisfied: google-auth-oauthlib<0.5,>=0.4.1 in /usr/local/lib/python3.7/dist-packages (from tensorboard->keras-tuner<1.1,>=1.0.2->autokeras) (0.4.6)\n",
            "Requirement already satisfied: google-auth<3,>=1.6.3 in /usr/local/lib/python3.7/dist-packages (from tensorboard->keras-tuner<1.1,>=1.0.2->autokeras) (1.35.0)\n",
            "Requirement already satisfied: markdown>=2.6.8 in /usr/local/lib/python3.7/dist-packages (from tensorboard->keras-tuner<1.1,>=1.0.2->autokeras) (3.3.6)\n",
            "Requirement already satisfied: setuptools>=41.0.0 in /usr/local/lib/python3.7/dist-packages (from tensorboard->keras-tuner<1.1,>=1.0.2->autokeras) (57.4.0)\n",
            "Requirement already satisfied: werkzeug>=0.11.15 in /usr/local/lib/python3.7/dist-packages (from tensorboard->keras-tuner<1.1,>=1.0.2->autokeras) (1.0.1)\n",
            "Requirement already satisfied: tensorboard-data-server<0.7.0,>=0.6.0 in /usr/local/lib/python3.7/dist-packages (from tensorboard->keras-tuner<1.1,>=1.0.2->autokeras) (0.6.1)\n",
            "Requirement already satisfied: tensorboard-plugin-wit>=1.6.0 in /usr/local/lib/python3.7/dist-packages (from tensorboard->keras-tuner<1.1,>=1.0.2->autokeras) (1.8.0)\n",
            "Requirement already satisfied: cachetools<5.0,>=2.0.0 in /usr/local/lib/python3.7/dist-packages (from google-auth<3,>=1.6.3->tensorboard->keras-tuner<1.1,>=1.0.2->autokeras) (4.2.4)\n",
            "Requirement already satisfied: pyasn1-modules>=0.2.1 in /usr/local/lib/python3.7/dist-packages (from google-auth<3,>=1.6.3->tensorboard->keras-tuner<1.1,>=1.0.2->autokeras) (0.2.8)\n",
            "Requirement already satisfied: rsa<5,>=3.1.4 in /usr/local/lib/python3.7/dist-packages (from google-auth<3,>=1.6.3->tensorboard->keras-tuner<1.1,>=1.0.2->autokeras) (4.8)\n",
            "Requirement already satisfied: requests-oauthlib>=0.7.0 in /usr/local/lib/python3.7/dist-packages (from google-auth-oauthlib<0.5,>=0.4.1->tensorboard->keras-tuner<1.1,>=1.0.2->autokeras) (1.3.0)\n",
            "Requirement already satisfied: importlib-metadata>=4.4 in /usr/local/lib/python3.7/dist-packages (from markdown>=2.6.8->tensorboard->keras-tuner<1.1,>=1.0.2->autokeras) (4.8.2)\n",
            "Requirement already satisfied: zipp>=0.5 in /usr/local/lib/python3.7/dist-packages (from importlib-metadata>=4.4->markdown>=2.6.8->tensorboard->keras-tuner<1.1,>=1.0.2->autokeras) (3.6.0)\n",
            "Requirement already satisfied: pyasn1<0.5.0,>=0.4.6 in /usr/local/lib/python3.7/dist-packages (from pyasn1-modules>=0.2.1->google-auth<3,>=1.6.3->tensorboard->keras-tuner<1.1,>=1.0.2->autokeras) (0.4.8)\n",
            "Requirement already satisfied: chardet<4,>=3.0.2 in /usr/local/lib/python3.7/dist-packages (from requests->keras-tuner<1.1,>=1.0.2->autokeras) (3.0.4)\n",
            "Requirement already satisfied: certifi>=2017.4.17 in /usr/local/lib/python3.7/dist-packages (from requests->keras-tuner<1.1,>=1.0.2->autokeras) (2021.10.8)\n",
            "Requirement already satisfied: urllib3!=1.25.0,!=1.25.1,<1.26,>=1.21.1 in /usr/local/lib/python3.7/dist-packages (from requests->keras-tuner<1.1,>=1.0.2->autokeras) (1.24.3)\n",
            "Requirement already satisfied: idna<3,>=2.5 in /usr/local/lib/python3.7/dist-packages (from requests->keras-tuner<1.1,>=1.0.2->autokeras) (2.10)\n",
            "Requirement already satisfied: oauthlib>=3.0.0 in /usr/local/lib/python3.7/dist-packages (from requests-oauthlib>=0.7.0->google-auth-oauthlib<0.5,>=0.4.1->tensorboard->keras-tuner<1.1,>=1.0.2->autokeras) (3.1.1)\n",
            "Requirement already satisfied: decorator in /usr/local/lib/python3.7/dist-packages (from ipython->keras-tuner<1.1,>=1.0.2->autokeras) (4.4.2)\n",
            "Requirement already satisfied: pickleshare in /usr/local/lib/python3.7/dist-packages (from ipython->keras-tuner<1.1,>=1.0.2->autokeras) (0.7.5)\n",
            "Requirement already satisfied: prompt-toolkit<2.0.0,>=1.0.4 in /usr/local/lib/python3.7/dist-packages (from ipython->keras-tuner<1.1,>=1.0.2->autokeras) (1.0.18)\n",
            "Requirement already satisfied: pexpect in /usr/local/lib/python3.7/dist-packages (from ipython->keras-tuner<1.1,>=1.0.2->autokeras) (4.8.0)\n",
            "Requirement already satisfied: pygments in /usr/local/lib/python3.7/dist-packages (from ipython->keras-tuner<1.1,>=1.0.2->autokeras) (2.6.1)\n",
            "Requirement already satisfied: simplegeneric>0.8 in /usr/local/lib/python3.7/dist-packages (from ipython->keras-tuner<1.1,>=1.0.2->autokeras) (0.8.1)\n",
            "Requirement already satisfied: traitlets>=4.2 in /usr/local/lib/python3.7/dist-packages (from ipython->keras-tuner<1.1,>=1.0.2->autokeras) (5.1.1)\n",
            "Requirement already satisfied: wcwidth in /usr/local/lib/python3.7/dist-packages (from prompt-toolkit<2.0.0,>=1.0.4->ipython->keras-tuner<1.1,>=1.0.2->autokeras) (0.2.5)\n",
            "Requirement already satisfied: pyparsing!=3.0.5,>=2.0.2 in /usr/local/lib/python3.7/dist-packages (from packaging->autokeras) (3.0.6)\n",
            "Requirement already satisfied: python-dateutil>=2.7.3 in /usr/local/lib/python3.7/dist-packages (from pandas->autokeras) (2.8.2)\n",
            "Requirement already satisfied: pytz>=2017.2 in /usr/local/lib/python3.7/dist-packages (from pandas->autokeras) (2018.9)\n",
            "Requirement already satisfied: ptyprocess>=0.5 in /usr/local/lib/python3.7/dist-packages (from pexpect->ipython->keras-tuner<1.1,>=1.0.2->autokeras) (0.7.0)\n",
            "Requirement already satisfied: threadpoolctl>=2.0.0 in /usr/local/lib/python3.7/dist-packages (from scikit-learn->autokeras) (3.0.0)\n",
            "Requirement already satisfied: joblib>=0.11 in /usr/local/lib/python3.7/dist-packages (from scikit-learn->autokeras) (1.1.0)\n"
          ]
        }
      ],
      "source": [
        "!pip3 install autokeras"
      ]
    },
    {
      "cell_type": "code",
      "source": [
        "from google.colab import drive\n",
        "drive.mount('/content/drive')"
      ],
      "metadata": {
        "colab": {
          "base_uri": "https://localhost:8080/"
        },
        "id": "vj-fTcBL6hxr",
        "outputId": "94f990ac-a9c7-4b08-ce6d-95bafa999cbd"
      },
      "execution_count": null,
      "outputs": [
        {
          "output_type": "stream",
          "name": "stdout",
          "text": [
            "Drive already mounted at /content/drive; to attempt to forcibly remount, call drive.mount(\"/content/drive\", force_remount=True).\n"
          ]
        }
      ]
    },
    {
      "cell_type": "code",
      "source": [
        "from numpy import mean\n",
        "from numpy import std\n",
        "import numpy as np\n",
        "from matplotlib import pyplot\n",
        "from sklearn.model_selection import KFold\n",
        "from tensorflow.keras.datasets import mnist\n",
        "from tensorflow.keras.utils import to_categorical\n",
        "from tensorflow.keras.models import Sequential\n",
        "from tensorflow.keras.layers import Conv2D\n",
        "from tensorflow.keras.layers import MaxPooling2D\n",
        "from tensorflow.keras.layers import Dense\n",
        "from tensorflow.keras.layers import Flatten\n",
        "from tensorflow.keras.optimizers import SGD\n",
        "from tensorflow.keras.layers import Dropout\n",
        "from tensorflow.keras.layers import BatchNormalization\n",
        "import tensorflow as tf\n",
        "from tensorflow.keras.models import Model\n",
        "from tensorflow.keras import backend as K\n",
        "import matplotlib.pyplot as plt\n",
        "import sklearn\n",
        "from sklearn.metrics import confusion_matrix\n",
        "from scipy.io import loadmat\n",
        "import numpy as np\n",
        "import PIL\n",
        "import cv2\n",
        "import os\n",
        "from sklearn.model_selection import train_test_split\n",
        "import autokeras as ak"
      ],
      "metadata": {
        "id": "aSXYuWo36jWr"
      },
      "execution_count": null,
      "outputs": []
    },
    {
      "cell_type": "code",
      "source": [
        "'''\n",
        "x = list()\n",
        "data = list()\n",
        "y = list()\n",
        "z = 0\n",
        "# ##Class-1 images##\n",
        " folder_path_class1 = ('/content/drive/MyDrive/PCG_signal_time_frequency_image/STFT_Github')\n",
        "# #folder_path_class2 = ('/content/drive/MyDrive/PCG_signal_time_frequency_image/Physionet_complete/scheme1/normal_TDPCT_SetB/')\n",
        "# #folder_path_class3 = ('/content/drive/MyDrive/PCG_signal_time_frequency_image/Physionet_complete/scheme1/normal_TDPCT_SetC/')\n",
        "# #folder_path_class4 = ('/content/drive/MyDrive/PCG_signal_time_frequency_image/Physionet_complete/scheme1/normal_TDPCT_SetD/')\n",
        "# #folder_path_class5 = ('/content/drive/MyDrive/PCG_signal_time_frequency_image/Physionet_complete/scheme1/normal_TDPCT_SetF/')\n",
        "\n",
        "# #folder_path_class1b = ('/content/drive/MyDrive/PCG_signal_time_frequency_image/Physionet_complete/scheme1/abnormal_TDPCT_SetA/')\n",
        "# #folder_path_class2b = ('/content/drive/MyDrive/PCG_signal_time_frequency_image/Physionet_complete/scheme1/abnormal_TDPCT_SetB/')\n",
        "# #folder_path_class3b = ('/content/drive/MyDrive/PCG_signal_time_frequency_image/Physionet_complete/scheme1/abnormal_TDPCT_SetC/')\n",
        "# #folder_path_class4b = ('/content/drive/MyDrive/PCG_signal_time_frequency_image/Physionet_complete/scheme1/abnormal_TDPCT_SetD/')\n",
        "# #folder_path_class5b = ('/content/drive/MyDrive/PCG_signal_time_frequency_image/Physionet_complete/scheme1/abnormal_TDPCT_SetF/')\n",
        "\n",
        " paths = [folder_path_class1]\n",
        "\n",
        "class_types = {'MVP':0,'MR':1,'MS':2,'normal':3,'AS':4}\n",
        "\n",
        "for p in paths:\n",
        "   #print(p)\n",
        "  for image in os.walk(p):\n",
        "     data.append(image[2])\n",
        "     #print(image[2])\n",
        "\n",
        "  for i in range(len(data[0])):\n",
        "    name = data[0][i].split('_')[0]\n",
        "    #print(name)\n",
        "    y.append(class_types[str(name)])\n",
        "     str_complete = p + data[0][i]\n",
        "    #print(str_complete)\n",
        "    img = cv2.imread(str_complete)\n",
        "   img = cv2.resize(img, (128, 128))\n",
        "    x.append(img)#Ensure all images are loaded\n",
        "  data = []\n",
        "\n",
        "data_x = np.asarray(x)\n",
        " y = np.asarray(y)\n",
        " np.save('/content/drive/MyDrive/PCG_signal_time_frequency_image/STFT_Github/x',data_x)\n",
        " np.save('/content/drive/MyDrive/PCG_signal_time_frequency_image/STFT_Github/y',y)\n",
        " '''"
      ],
      "metadata": {
        "id": "quXg87uf6lcD",
        "colab": {
          "base_uri": "https://localhost:8080/",
          "height": 158
        },
        "outputId": "7ea63217-e369-4f2e-e8be-551599dc369a"
      },
      "execution_count": null,
      "outputs": [
        {
          "output_type": "execute_result",
          "data": {
            "application/vnd.google.colaboratory.intrinsic+json": {
              "type": "string"
            },
            "text/plain": [
              "\"\\nx = list()\\ndata = list()\\ny = list()\\nz = 0\\n# ##Class-1 images##\\n folder_path_class1 = ('/content/drive/MyDrive/PCG_signal_time_frequency_image/STFT_Github')\\n# #folder_path_class2 = ('/content/drive/MyDrive/PCG_signal_time_frequency_image/Physionet_complete/scheme1/normal_TDPCT_SetB/')\\n# #folder_path_class3 = ('/content/drive/MyDrive/PCG_signal_time_frequency_image/Physionet_complete/scheme1/normal_TDPCT_SetC/')\\n# #folder_path_class4 = ('/content/drive/MyDrive/PCG_signal_time_frequency_image/Physionet_complete/scheme1/normal_TDPCT_SetD/')\\n# #folder_path_class5 = ('/content/drive/MyDrive/PCG_signal_time_frequency_image/Physionet_complete/scheme1/normal_TDPCT_SetF/')\\n\\n# #folder_path_class1b = ('/content/drive/MyDrive/PCG_signal_time_frequency_image/Physionet_complete/scheme1/abnormal_TDPCT_SetA/')\\n# #folder_path_class2b = ('/content/drive/MyDrive/PCG_signal_time_frequency_image/Physionet_complete/scheme1/abnormal_TDPCT_SetB/')\\n# #folder_path_class3b = ('/content/drive/MyDrive/PCG_signal_time_frequency_image/Physionet_complete/scheme1/abnormal_TDPCT_SetC/')\\n# #folder_path_class4b = ('/content/drive/MyDrive/PCG_signal_time_frequency_image/Physionet_complete/scheme1/abnormal_TDPCT_SetD/')\\n# #folder_path_class5b = ('/content/drive/MyDrive/PCG_signal_time_frequency_image/Physionet_complete/scheme1/abnormal_TDPCT_SetF/')\\n\\n paths = [folder_path_class1]\\n\\nclass_types = {'MVP':0,'MR':1,'MS':2,'normal':3,'AS':4}\\n\\nfor p in paths:\\n   #print(p)\\n  for image in os.walk(p):\\n     data.append(image[2])\\n     #print(image[2])\\n\\n  for i in range(len(data[0])):\\n    name = data[0][i].split('_')[0]\\n    #print(name)\\n    y.append(class_types[str(name)])\\n     str_complete = p + data[0][i]\\n    #print(str_complete)\\n    img = cv2.imread(str_complete)\\n   img = cv2.resize(img, (128, 128))\\n    x.append(img)#Ensure all images are loaded\\n  data = []\\n\\ndata_x = np.asarray(x)\\n y = np.asarray(y)\\n np.save('/content/drive/MyDrive/PCG_signal_time_frequency_image/STFT_Github/x',data_x)\\n np.save('/content/drive/MyDrive/PCG_signal_time_frequency_image/STFT_Github/y',y)\\n \""
            ]
          },
          "metadata": {},
          "execution_count": 157
        }
      ]
    },
    {
      "cell_type": "code",
      "source": [
        "x  = np.load(\"/content/drive/MyDrive/PCG_signal_time_frequency_image/STFT_Github/x.npy\")\n",
        "y = np.load(\"/content/drive/MyDrive/PCG_signal_time_frequency_image/STFT_Github/y.npy\")"
      ],
      "metadata": {
        "id": "XUcnABb0o4Gc"
      },
      "execution_count": null,
      "outputs": []
    },
    {
      "cell_type": "code",
      "source": [
        "x_train, x_test, y_train, y_test = train_test_split(x, y, test_size=0.1, random_state=1)\n",
        "x_train, x_val, y_train, y_val = train_test_split(x_train, y_train, test_size=1/8, random_state=1)\n",
        "\n",
        "y_tr_one_hot  = np.zeros((np.array(y_train).shape[0],5))\n",
        "for i in range(np.array(y_train).shape[0]):\n",
        "  label = y_train[i]\n",
        "  y_tr_one_hot[i][int(label)] = 1\n",
        "\n",
        "y_te_one_hot  = np.zeros((np.array(y_test).shape[0],5))\n",
        "for i in range(np.array(y_test).shape[0]):\n",
        "  label = y_test[i]\n",
        "  y_te_one_hot[i][int(label)] = 1\n",
        "\n",
        "y_val_one_hot  = np.zeros((np.array(y_val).shape[0],5))\n",
        "for i in range(np.array(y_val).shape[0]):\n",
        "  label = y_val[i]\n",
        "  y_val_one_hot[i][int(label)] = 1"
      ],
      "metadata": {
        "id": "XQt9GRaopj9w"
      },
      "execution_count": null,
      "outputs": []
    },
    {
      "cell_type": "markdown",
      "source": [
        "AutoKeras Code"
      ],
      "metadata": {
        "id": "pDD1mblFtffF"
      }
    },
    {
      "cell_type": "code",
      "source": [
        "input_node = ak.ImageInput()\n",
        "output_node = ak.Normalization()(input_node)\n",
        "output_node1 = ak.ConvBlock()(output_node)\n",
        "output_node2 = ak.ConvBlock(max_pooling=True)(output_node1)\n",
        "output_node = ak.ClassificationHead()(output_node)\n",
        "\n",
        "auto_model = ak.AutoModel(\n",
        "    inputs=input_node, outputs=output_node, overwrite=True, max_trials=1\n",
        ")"
      ],
      "metadata": {
        "id": "Yvhw4tNutCav"
      },
      "execution_count": null,
      "outputs": []
    },
    {
      "cell_type": "code",
      "source": [
        "print(x_train.shape)\n",
        "print(y_tr_one_hot.shape)\n",
        "\n",
        "# Feed the AutoModel with training data.\n",
        "auto_model.fit(x_train, y_train, epochs=10)\n",
        "# Predict with the best model.\n",
        "predicted_y = auto_model.predict(x_test)\n",
        "# Evaluate the best model with testing data.\n",
        "print(auto_model.evaluate(x_test, y_test))"
      ],
      "metadata": {
        "id": "0I2hMFSKtyut",
        "colab": {
          "base_uri": "https://localhost:8080/"
        },
        "outputId": "47ed0462-7e4e-4925-ff99-ab70fe2740cd"
      },
      "execution_count": null,
      "outputs": [
        {
          "output_type": "stream",
          "name": "stdout",
          "text": [
            "Trial 1 Complete [00h 00m 12s]\n",
            "val_loss: 0.5416480898857117\n",
            "\n",
            "Best val_loss So Far: 0.5416480898857117\n",
            "Total elapsed time: 00h 00m 12s\n",
            "INFO:tensorflow:Oracle triggered exit\n",
            "Epoch 1/10\n",
            "25/25 [==============================] - 1s 26ms/step - loss: 3.4218 - accuracy: 0.2859\n",
            "Epoch 2/10\n",
            "25/25 [==============================] - 1s 26ms/step - loss: 0.7467 - accuracy: 0.7586\n",
            "Epoch 3/10\n",
            "25/25 [==============================] - 1s 26ms/step - loss: 0.3103 - accuracy: 0.9161\n",
            "Epoch 4/10\n",
            "25/25 [==============================] - 1s 26ms/step - loss: 0.1464 - accuracy: 0.9911\n",
            "Epoch 5/10\n",
            "25/25 [==============================] - 1s 26ms/step - loss: 0.1024 - accuracy: 0.9987\n",
            "Epoch 6/10\n",
            "25/25 [==============================] - 1s 26ms/step - loss: 0.0786 - accuracy: 1.0000\n",
            "Epoch 7/10\n",
            "25/25 [==============================] - 1s 25ms/step - loss: 0.0641 - accuracy: 1.0000\n",
            "Epoch 8/10\n",
            "25/25 [==============================] - 1s 26ms/step - loss: 0.0543 - accuracy: 1.0000\n",
            "Epoch 9/10\n",
            "25/25 [==============================] - 1s 26ms/step - loss: 0.0472 - accuracy: 1.0000\n",
            "Epoch 10/10\n",
            "25/25 [==============================] - 1s 26ms/step - loss: 0.0417 - accuracy: 1.0000\n",
            "INFO:tensorflow:Assets written to: ./auto_model/best_model/assets\n",
            "4/4 [==============================] - 0s 14ms/step\n",
            "4/4 [==============================] - 0s 15ms/step - loss: 0.3715 - accuracy: 0.9000\n",
            "[0.3714759945869446, 0.8999999761581421]\n"
          ]
        }
      ]
    },
    {
      "cell_type": "code",
      "source": [
        "predicted_y = auto_model.predict(x_test)"
      ],
      "metadata": {
        "colab": {
          "base_uri": "https://localhost:8080/"
        },
        "id": "5WYR8fPrLubz",
        "outputId": "7ccca9bc-8488-425e-ece3-2f43182abe51"
      },
      "execution_count": null,
      "outputs": [
        {
          "output_type": "stream",
          "name": "stdout",
          "text": [
            "4/4 [==============================] - 0s 14ms/step\n"
          ]
        }
      ]
    },
    {
      "cell_type": "code",
      "source": [
        "p_list = predicted_y.reshape(100).tolist()\n",
        "p_list_int = []\n",
        "for i in p_list:\n",
        "  p_list_int.append(int(i))"
      ],
      "metadata": {
        "id": "rNY1S2eRLxbi"
      },
      "execution_count": null,
      "outputs": []
    },
    {
      "cell_type": "code",
      "source": [
        "from sklearn.metrics import confusion_matrix\n",
        "cm1 = confusion_matrix(y_test,p_list_int)\n",
        "print(\"confusion matrix \\n\",cm1)"
      ],
      "metadata": {
        "colab": {
          "base_uri": "https://localhost:8080/"
        },
        "id": "B0gHCAoTL0ky",
        "outputId": "f94ac297-45b3-4871-8de4-9f857893e2d2"
      },
      "execution_count": null,
      "outputs": [
        {
          "output_type": "stream",
          "name": "stdout",
          "text": [
            "confusion matrix \n",
            " [[18  2  0  1  0]\n",
            " [ 2 23  1  0  0]\n",
            " [ 1  0 14  0  0]\n",
            " [ 1  0  0 19  0]\n",
            " [ 0  0  2  0 16]]\n"
          ]
        }
      ]
    },
    {
      "cell_type": "code",
      "source": [
        "precision = sklearn.metrics.precision_score(y_test,p_list_int,average='micro')\n",
        "print(precision)\n"
      ],
      "metadata": {
        "colab": {
          "base_uri": "https://localhost:8080/"
        },
        "id": "v-Bbm1jhL3cy",
        "outputId": "70a9067e-9b92-487c-d4f5-9fd73a045a99"
      },
      "execution_count": null,
      "outputs": [
        {
          "output_type": "stream",
          "name": "stdout",
          "text": [
            "0.9\n"
          ]
        }
      ]
    },
    {
      "cell_type": "code",
      "source": [
        "accuracy=np.diag(cm1).sum()/cm1.sum().sum()\n",
        "print(accuracy)"
      ],
      "metadata": {
        "colab": {
          "base_uri": "https://localhost:8080/"
        },
        "id": "Af_Qc8t6MhUj",
        "outputId": "39346ec0-14d6-4243-d82f-459b3ea507b7"
      },
      "execution_count": null,
      "outputs": [
        {
          "output_type": "stream",
          "name": "stdout",
          "text": [
            "0.9\n"
          ]
        }
      ]
    },
    {
      "cell_type": "code",
      "source": [
        "  recall = sklearn.metrics.recall_score(y_test,p_list_int,average='micro')\n",
        "  print(recall)\n"
      ],
      "metadata": {
        "colab": {
          "base_uri": "https://localhost:8080/"
        },
        "id": "MeKy3JTDNGSL",
        "outputId": "a4eb97a6-8e10-482f-e208-05b3180e2302"
      },
      "execution_count": null,
      "outputs": [
        {
          "output_type": "stream",
          "name": "stdout",
          "text": [
            "0.9\n"
          ]
        }
      ]
    },
    {
      "cell_type": "code",
      "source": [
        "F1 = sklearn.metrics.f1_score(y_test,p_list_int,average='micro')\n",
        "print(F1)"
      ],
      "metadata": {
        "colab": {
          "base_uri": "https://localhost:8080/"
        },
        "id": "30CsXc_mNPRy",
        "outputId": "74c75d1c-bbcf-46dd-cb7e-89db9f8ecffc"
      },
      "execution_count": null,
      "outputs": [
        {
          "output_type": "stream",
          "name": "stdout",
          "text": [
            "0.9\n"
          ]
        }
      ]
    },
    {
      "cell_type": "code",
      "source": [
        "K_cappa = sklearn.metrics.cohen_kappa_score(y_test,p_list_int)\n",
        "print(K_cappa)"
      ],
      "metadata": {
        "colab": {
          "base_uri": "https://localhost:8080/"
        },
        "id": "YKaUZXmnPSJC",
        "outputId": "cb294629-54fa-4082-f44f-402a30e950d7"
      },
      "execution_count": null,
      "outputs": [
        {
          "output_type": "stream",
          "name": "stdout",
          "text": [
            "0.8741346758967904\n"
          ]
        }
      ]
    }
  ]
}