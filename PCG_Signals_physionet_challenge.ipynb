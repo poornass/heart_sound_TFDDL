{
  "cells": [
    {
      "cell_type": "code",
      "execution_count": null,
      "metadata": {
        "id": "hEPo_7BH1y9K",
        "colab": {
          "base_uri": "https://localhost:8080/"
        },
        "outputId": "a13cfcc1-5cfe-4a73-9649-0788a6576e3f"
      },
      "outputs": [
        {
          "output_type": "stream",
          "name": "stdout",
          "text": [
            "Collecting autokeras\n",
            "  Downloading autokeras-1.0.16.post1-py3-none-any.whl (166 kB)\n",
            "\u001b[?25l\r\u001b[K     |██                              | 10 kB 19.0 MB/s eta 0:00:01\r\u001b[K     |████                            | 20 kB 24.2 MB/s eta 0:00:01\r\u001b[K     |██████                          | 30 kB 26.0 MB/s eta 0:00:01\r\u001b[K     |███████▉                        | 40 kB 20.6 MB/s eta 0:00:01\r\u001b[K     |█████████▉                      | 51 kB 21.0 MB/s eta 0:00:01\r\u001b[K     |███████████▉                    | 61 kB 13.6 MB/s eta 0:00:01\r\u001b[K     |█████████████▊                  | 71 kB 14.8 MB/s eta 0:00:01\r\u001b[K     |███████████████▊                | 81 kB 16.3 MB/s eta 0:00:01\r\u001b[K     |█████████████████▊              | 92 kB 17.0 MB/s eta 0:00:01\r\u001b[K     |███████████████████▋            | 102 kB 18.2 MB/s eta 0:00:01\r\u001b[K     |█████████████████████▋          | 112 kB 18.2 MB/s eta 0:00:01\r\u001b[K     |███████████████████████▋        | 122 kB 18.2 MB/s eta 0:00:01\r\u001b[K     |█████████████████████████▌      | 133 kB 18.2 MB/s eta 0:00:01\r\u001b[K     |███████████████████████████▌    | 143 kB 18.2 MB/s eta 0:00:01\r\u001b[K     |█████████████████████████████▌  | 153 kB 18.2 MB/s eta 0:00:01\r\u001b[K     |███████████████████████████████▍| 163 kB 18.2 MB/s eta 0:00:01\r\u001b[K     |████████████████████████████████| 166 kB 18.2 MB/s \n",
            "\u001b[?25hRequirement already satisfied: pandas in /usr/local/lib/python3.7/dist-packages (from autokeras) (1.1.5)\n",
            "Collecting keras-tuner<1.1,>=1.0.2\n",
            "  Downloading keras_tuner-1.0.4-py3-none-any.whl (97 kB)\n",
            "\u001b[?25l\r\u001b[K     |███▍                            | 10 kB 29.0 MB/s eta 0:00:01\r\u001b[K     |██████▊                         | 20 kB 33.2 MB/s eta 0:00:01\r\u001b[K     |██████████                      | 30 kB 38.7 MB/s eta 0:00:01\r\u001b[K     |█████████████▍                  | 40 kB 39.9 MB/s eta 0:00:01\r\u001b[K     |████████████████▊               | 51 kB 41.6 MB/s eta 0:00:01\r\u001b[K     |████████████████████            | 61 kB 41.9 MB/s eta 0:00:01\r\u001b[K     |███████████████████████▍        | 71 kB 40.2 MB/s eta 0:00:01\r\u001b[K     |██████████████████████████▊     | 81 kB 37.7 MB/s eta 0:00:01\r\u001b[K     |██████████████████████████████▏ | 92 kB 38.0 MB/s eta 0:00:01\r\u001b[K     |████████████████████████████████| 97 kB 5.6 MB/s \n",
            "\u001b[?25hRequirement already satisfied: packaging in /usr/local/lib/python3.7/dist-packages (from autokeras) (21.3)\n",
            "Requirement already satisfied: scikit-learn in /usr/local/lib/python3.7/dist-packages (from autokeras) (1.0.1)\n",
            "Collecting tensorflow<2.6,>=2.3.0\n",
            "  Downloading tensorflow-2.5.2-cp37-cp37m-manylinux2010_x86_64.whl (454.4 MB)\n",
            "\u001b[K     |████████████████████████████████| 454.4 MB 22 kB/s \n",
            "\u001b[?25hRequirement already satisfied: numpy in /usr/local/lib/python3.7/dist-packages (from keras-tuner<1.1,>=1.0.2->autokeras) (1.19.5)\n",
            "Requirement already satisfied: tensorboard in /usr/local/lib/python3.7/dist-packages (from keras-tuner<1.1,>=1.0.2->autokeras) (2.7.0)\n",
            "Requirement already satisfied: ipython in /usr/local/lib/python3.7/dist-packages (from keras-tuner<1.1,>=1.0.2->autokeras) (5.5.0)\n",
            "Collecting kt-legacy\n",
            "  Downloading kt_legacy-1.0.4-py3-none-any.whl (9.6 kB)\n",
            "Requirement already satisfied: requests in /usr/local/lib/python3.7/dist-packages (from keras-tuner<1.1,>=1.0.2->autokeras) (2.23.0)\n",
            "Requirement already satisfied: scipy in /usr/local/lib/python3.7/dist-packages (from keras-tuner<1.1,>=1.0.2->autokeras) (1.4.1)\n",
            "Collecting grpcio~=1.34.0\n",
            "  Downloading grpcio-1.34.1-cp37-cp37m-manylinux2014_x86_64.whl (4.0 MB)\n",
            "\u001b[K     |████████████████████████████████| 4.0 MB 27.8 MB/s \n",
            "\u001b[?25hRequirement already satisfied: keras-preprocessing~=1.1.2 in /usr/local/lib/python3.7/dist-packages (from tensorflow<2.6,>=2.3.0->autokeras) (1.1.2)\n",
            "Requirement already satisfied: h5py~=3.1.0 in /usr/local/lib/python3.7/dist-packages (from tensorflow<2.6,>=2.3.0->autokeras) (3.1.0)\n",
            "Requirement already satisfied: termcolor~=1.1.0 in /usr/local/lib/python3.7/dist-packages (from tensorflow<2.6,>=2.3.0->autokeras) (1.1.0)\n",
            "Collecting tensorflow-estimator<2.6.0,>=2.5.0\n",
            "  Downloading tensorflow_estimator-2.5.0-py2.py3-none-any.whl (462 kB)\n",
            "\u001b[K     |████████████████████████████████| 462 kB 48.2 MB/s \n",
            "\u001b[?25hCollecting typing-extensions~=3.7.4\n",
            "  Downloading typing_extensions-3.7.4.3-py3-none-any.whl (22 kB)\n",
            "Collecting keras-nightly~=2.5.0.dev\n",
            "  Downloading keras_nightly-2.5.0.dev2021032900-py2.py3-none-any.whl (1.2 MB)\n",
            "\u001b[K     |████████████████████████████████| 1.2 MB 51.3 MB/s \n",
            "\u001b[?25hRequirement already satisfied: opt-einsum~=3.3.0 in /usr/local/lib/python3.7/dist-packages (from tensorflow<2.6,>=2.3.0->autokeras) (3.3.0)\n",
            "Collecting flatbuffers~=1.12.0\n",
            "  Downloading flatbuffers-1.12-py2.py3-none-any.whl (15 kB)\n",
            "Requirement already satisfied: six~=1.15.0 in /usr/local/lib/python3.7/dist-packages (from tensorflow<2.6,>=2.3.0->autokeras) (1.15.0)\n",
            "Requirement already satisfied: absl-py~=0.10 in /usr/local/lib/python3.7/dist-packages (from tensorflow<2.6,>=2.3.0->autokeras) (0.12.0)\n",
            "Requirement already satisfied: astunparse~=1.6.3 in /usr/local/lib/python3.7/dist-packages (from tensorflow<2.6,>=2.3.0->autokeras) (1.6.3)\n",
            "Collecting wrapt~=1.12.1\n",
            "  Downloading wrapt-1.12.1.tar.gz (27 kB)\n",
            "Requirement already satisfied: wheel~=0.35 in /usr/local/lib/python3.7/dist-packages (from tensorflow<2.6,>=2.3.0->autokeras) (0.37.0)\n",
            "Requirement already satisfied: google-pasta~=0.2 in /usr/local/lib/python3.7/dist-packages (from tensorflow<2.6,>=2.3.0->autokeras) (0.2.0)\n",
            "Requirement already satisfied: protobuf>=3.9.2 in /usr/local/lib/python3.7/dist-packages (from tensorflow<2.6,>=2.3.0->autokeras) (3.17.3)\n",
            "Requirement already satisfied: gast==0.4.0 in /usr/local/lib/python3.7/dist-packages (from tensorflow<2.6,>=2.3.0->autokeras) (0.4.0)\n",
            "Requirement already satisfied: cached-property in /usr/local/lib/python3.7/dist-packages (from h5py~=3.1.0->tensorflow<2.6,>=2.3.0->autokeras) (1.5.2)\n",
            "Requirement already satisfied: setuptools>=41.0.0 in /usr/local/lib/python3.7/dist-packages (from tensorboard->keras-tuner<1.1,>=1.0.2->autokeras) (57.4.0)\n",
            "Requirement already satisfied: tensorboard-plugin-wit>=1.6.0 in /usr/local/lib/python3.7/dist-packages (from tensorboard->keras-tuner<1.1,>=1.0.2->autokeras) (1.8.0)\n",
            "Requirement already satisfied: tensorboard-data-server<0.7.0,>=0.6.0 in /usr/local/lib/python3.7/dist-packages (from tensorboard->keras-tuner<1.1,>=1.0.2->autokeras) (0.6.1)\n",
            "Requirement already satisfied: google-auth-oauthlib<0.5,>=0.4.1 in /usr/local/lib/python3.7/dist-packages (from tensorboard->keras-tuner<1.1,>=1.0.2->autokeras) (0.4.6)\n",
            "Requirement already satisfied: werkzeug>=0.11.15 in /usr/local/lib/python3.7/dist-packages (from tensorboard->keras-tuner<1.1,>=1.0.2->autokeras) (1.0.1)\n",
            "Requirement already satisfied: markdown>=2.6.8 in /usr/local/lib/python3.7/dist-packages (from tensorboard->keras-tuner<1.1,>=1.0.2->autokeras) (3.3.6)\n",
            "Requirement already satisfied: google-auth<3,>=1.6.3 in /usr/local/lib/python3.7/dist-packages (from tensorboard->keras-tuner<1.1,>=1.0.2->autokeras) (1.35.0)\n",
            "Requirement already satisfied: pyasn1-modules>=0.2.1 in /usr/local/lib/python3.7/dist-packages (from google-auth<3,>=1.6.3->tensorboard->keras-tuner<1.1,>=1.0.2->autokeras) (0.2.8)\n",
            "Requirement already satisfied: cachetools<5.0,>=2.0.0 in /usr/local/lib/python3.7/dist-packages (from google-auth<3,>=1.6.3->tensorboard->keras-tuner<1.1,>=1.0.2->autokeras) (4.2.4)\n",
            "Requirement already satisfied: rsa<5,>=3.1.4 in /usr/local/lib/python3.7/dist-packages (from google-auth<3,>=1.6.3->tensorboard->keras-tuner<1.1,>=1.0.2->autokeras) (4.8)\n",
            "Requirement already satisfied: requests-oauthlib>=0.7.0 in /usr/local/lib/python3.7/dist-packages (from google-auth-oauthlib<0.5,>=0.4.1->tensorboard->keras-tuner<1.1,>=1.0.2->autokeras) (1.3.0)\n",
            "Requirement already satisfied: importlib-metadata>=4.4 in /usr/local/lib/python3.7/dist-packages (from markdown>=2.6.8->tensorboard->keras-tuner<1.1,>=1.0.2->autokeras) (4.8.2)\n",
            "Requirement already satisfied: zipp>=0.5 in /usr/local/lib/python3.7/dist-packages (from importlib-metadata>=4.4->markdown>=2.6.8->tensorboard->keras-tuner<1.1,>=1.0.2->autokeras) (3.6.0)\n",
            "Requirement already satisfied: pyasn1<0.5.0,>=0.4.6 in /usr/local/lib/python3.7/dist-packages (from pyasn1-modules>=0.2.1->google-auth<3,>=1.6.3->tensorboard->keras-tuner<1.1,>=1.0.2->autokeras) (0.4.8)\n",
            "Requirement already satisfied: chardet<4,>=3.0.2 in /usr/local/lib/python3.7/dist-packages (from requests->keras-tuner<1.1,>=1.0.2->autokeras) (3.0.4)\n",
            "Requirement already satisfied: certifi>=2017.4.17 in /usr/local/lib/python3.7/dist-packages (from requests->keras-tuner<1.1,>=1.0.2->autokeras) (2021.10.8)\n",
            "Requirement already satisfied: idna<3,>=2.5 in /usr/local/lib/python3.7/dist-packages (from requests->keras-tuner<1.1,>=1.0.2->autokeras) (2.10)\n",
            "Requirement already satisfied: urllib3!=1.25.0,!=1.25.1,<1.26,>=1.21.1 in /usr/local/lib/python3.7/dist-packages (from requests->keras-tuner<1.1,>=1.0.2->autokeras) (1.24.3)\n",
            "Requirement already satisfied: oauthlib>=3.0.0 in /usr/local/lib/python3.7/dist-packages (from requests-oauthlib>=0.7.0->google-auth-oauthlib<0.5,>=0.4.1->tensorboard->keras-tuner<1.1,>=1.0.2->autokeras) (3.1.1)\n",
            "Requirement already satisfied: pygments in /usr/local/lib/python3.7/dist-packages (from ipython->keras-tuner<1.1,>=1.0.2->autokeras) (2.6.1)\n",
            "Requirement already satisfied: pickleshare in /usr/local/lib/python3.7/dist-packages (from ipython->keras-tuner<1.1,>=1.0.2->autokeras) (0.7.5)\n",
            "Requirement already satisfied: decorator in /usr/local/lib/python3.7/dist-packages (from ipython->keras-tuner<1.1,>=1.0.2->autokeras) (4.4.2)\n",
            "Requirement already satisfied: simplegeneric>0.8 in /usr/local/lib/python3.7/dist-packages (from ipython->keras-tuner<1.1,>=1.0.2->autokeras) (0.8.1)\n",
            "Requirement already satisfied: pexpect in /usr/local/lib/python3.7/dist-packages (from ipython->keras-tuner<1.1,>=1.0.2->autokeras) (4.8.0)\n",
            "Requirement already satisfied: traitlets>=4.2 in /usr/local/lib/python3.7/dist-packages (from ipython->keras-tuner<1.1,>=1.0.2->autokeras) (5.1.1)\n",
            "Requirement already satisfied: prompt-toolkit<2.0.0,>=1.0.4 in /usr/local/lib/python3.7/dist-packages (from ipython->keras-tuner<1.1,>=1.0.2->autokeras) (1.0.18)\n",
            "Requirement already satisfied: wcwidth in /usr/local/lib/python3.7/dist-packages (from prompt-toolkit<2.0.0,>=1.0.4->ipython->keras-tuner<1.1,>=1.0.2->autokeras) (0.2.5)\n",
            "Requirement already satisfied: pyparsing!=3.0.5,>=2.0.2 in /usr/local/lib/python3.7/dist-packages (from packaging->autokeras) (3.0.6)\n",
            "Requirement already satisfied: python-dateutil>=2.7.3 in /usr/local/lib/python3.7/dist-packages (from pandas->autokeras) (2.8.2)\n",
            "Requirement already satisfied: pytz>=2017.2 in /usr/local/lib/python3.7/dist-packages (from pandas->autokeras) (2018.9)\n",
            "Requirement already satisfied: ptyprocess>=0.5 in /usr/local/lib/python3.7/dist-packages (from pexpect->ipython->keras-tuner<1.1,>=1.0.2->autokeras) (0.7.0)\n",
            "Requirement already satisfied: threadpoolctl>=2.0.0 in /usr/local/lib/python3.7/dist-packages (from scikit-learn->autokeras) (3.0.0)\n",
            "Requirement already satisfied: joblib>=0.11 in /usr/local/lib/python3.7/dist-packages (from scikit-learn->autokeras) (1.1.0)\n",
            "Building wheels for collected packages: wrapt\n",
            "  Building wheel for wrapt (setup.py) ... \u001b[?25l\u001b[?25hdone\n",
            "  Created wheel for wrapt: filename=wrapt-1.12.1-cp37-cp37m-linux_x86_64.whl size=68721 sha256=6572cc6aa4d07369609590437eed340aa51be088e8473cbb88dab5b8ec25d240\n",
            "  Stored in directory: /root/.cache/pip/wheels/62/76/4c/aa25851149f3f6d9785f6c869387ad82b3fd37582fa8147ac6\n",
            "Successfully built wrapt\n",
            "Installing collected packages: typing-extensions, grpcio, wrapt, tensorflow-estimator, kt-legacy, keras-nightly, flatbuffers, tensorflow, keras-tuner, autokeras\n",
            "  Attempting uninstall: typing-extensions\n",
            "    Found existing installation: typing-extensions 3.10.0.2\n",
            "    Uninstalling typing-extensions-3.10.0.2:\n",
            "      Successfully uninstalled typing-extensions-3.10.0.2\n",
            "  Attempting uninstall: grpcio\n",
            "    Found existing installation: grpcio 1.42.0\n",
            "    Uninstalling grpcio-1.42.0:\n",
            "      Successfully uninstalled grpcio-1.42.0\n",
            "  Attempting uninstall: wrapt\n",
            "    Found existing installation: wrapt 1.13.3\n",
            "    Uninstalling wrapt-1.13.3:\n",
            "      Successfully uninstalled wrapt-1.13.3\n",
            "  Attempting uninstall: tensorflow-estimator\n",
            "    Found existing installation: tensorflow-estimator 2.7.0\n",
            "    Uninstalling tensorflow-estimator-2.7.0:\n",
            "      Successfully uninstalled tensorflow-estimator-2.7.0\n",
            "  Attempting uninstall: flatbuffers\n",
            "    Found existing installation: flatbuffers 2.0\n",
            "    Uninstalling flatbuffers-2.0:\n",
            "      Successfully uninstalled flatbuffers-2.0\n",
            "  Attempting uninstall: tensorflow\n",
            "    Found existing installation: tensorflow 2.7.0\n",
            "    Uninstalling tensorflow-2.7.0:\n",
            "      Successfully uninstalled tensorflow-2.7.0\n",
            "Successfully installed autokeras-1.0.16.post1 flatbuffers-1.12 grpcio-1.34.1 keras-nightly-2.5.0.dev2021032900 keras-tuner-1.0.4 kt-legacy-1.0.4 tensorflow-2.5.2 tensorflow-estimator-2.5.0 typing-extensions-3.7.4.3 wrapt-1.12.1\n"
          ]
        }
      ],
      "source": [
        "!pip3 install autokeras"
      ]
    },
    {
      "cell_type": "code",
      "execution_count": null,
      "metadata": {
        "colab": {
          "base_uri": "https://localhost:8080/"
        },
        "id": "NCNTALmz7AXE",
        "outputId": "f8a3addc-7c0d-48c3-bc7e-04e67dd2ca26"
      },
      "outputs": [
        {
          "output_type": "stream",
          "name": "stdout",
          "text": [
            "Mounted at /content/drive\n"
          ]
        }
      ],
      "source": [
        "from google.colab import drive\n",
        "drive.mount('/content/drive')"
      ]
    },
    {
      "cell_type": "code",
      "execution_count": null,
      "metadata": {
        "id": "bnIIWj_S2IjR"
      },
      "outputs": [],
      "source": [
        "from numpy import mean\n",
        "from numpy import std\n",
        "import numpy as np\n",
        "from matplotlib import pyplot\n",
        "from sklearn.model_selection import KFold\n",
        "from tensorflow.keras.datasets import mnist\n",
        "from tensorflow.keras.utils import to_categorical\n",
        "from tensorflow.keras.models import Sequential\n",
        "from tensorflow.keras.layers import Conv2D\n",
        "from tensorflow.keras.layers import MaxPooling2D\n",
        "from tensorflow.keras.layers import Dense\n",
        "from tensorflow.keras.layers import Flatten\n",
        "from tensorflow.keras.optimizers import SGD\n",
        "from tensorflow.keras.layers import Dropout\n",
        "from tensorflow.keras.layers import BatchNormalization\n",
        "import tensorflow as tf\n",
        "from tensorflow.keras.models import Model\n",
        "from tensorflow.keras import backend as K\n",
        "import matplotlib.pyplot as plt\n",
        "import sklearn\n",
        "from sklearn.metrics import confusion_matrix\n",
        "from scipy.io import loadmat\n",
        "import numpy as np\n",
        "import PIL\n",
        "import cv2\n",
        "import os\n",
        "from sklearn.model_selection import train_test_split\n",
        "import autokeras as ak"
      ]
    },
    {
      "cell_type": "code",
      "execution_count": null,
      "metadata": {
        "id": "rGBDoMRg2TrS"
      },
      "outputs": [],
      "source": [
        "# x = list()\n",
        "# data = list()\n",
        "# z = 0\n",
        "# ##Class-1 images##\n",
        "# folder_path_class1 = ('/content/drive/MyDrive/PCG_signal_time_frequency_image/Physionet_Database_Evaluation/abnormal_image_Freq_PCT/')\n",
        "# #folder_path_class2 = ('/content/drive/MyDrive/PCG_signal_time_frequency_image/Physionet_complete/scheme1/normal_TDPCT_SetB/')\n",
        "# #folder_path_class3 = ('/content/drive/MyDrive/PCG_signal_time_frequency_image/Physionet_complete/scheme1/normal_TDPCT_SetC/')\n",
        "# #folder_path_class4 = ('/content/drive/MyDrive/PCG_signal_time_frequency_image/Physionet_complete/scheme1/normal_TDPCT_SetD/')\n",
        "# #folder_path_class5 = ('/content/drive/MyDrive/PCG_signal_time_frequency_image/Physionet_complete/scheme1/normal_TDPCT_SetF/')\n",
        "\n",
        "# folder_path_class1b = ('/content/drive/MyDrive/PCG_signal_time_frequency_image/Physionet_Database_Evaluation/normal_image_Freq_PCT/')\n",
        "# #folder_path_class2b = ('/content/drive/MyDrive/PCG_signal_time_frequency_image/Physionet_complete/scheme1/abnormal_TDPCT_SetB/')\n",
        "# #folder_path_class3b = ('/content/drive/MyDrive/PCG_signal_time_frequency_image/Physionet_complete/scheme1/abnormal_TDPCT_SetC/')\n",
        "# #folder_path_class4b = ('/content/drive/MyDrive/PCG_signal_time_frequency_image/Physionet_complete/scheme1/abnormal_TDPCT_SetD/')\n",
        "# #folder_path_class5b = ('/content/drive/MyDrive/PCG_signal_time_frequency_image/Physionet_complete/scheme1/abnormal_TDPCT_SetF/')\n",
        "\n",
        "# paths = [folder_path_class1,folder_path_class1b]\n",
        "\n",
        "# for p in paths:\n",
        "#   #print(p)\n",
        "#   for image in os.walk(p):\n",
        "#     data.append(image[2])\n",
        "#     #print(image[2])\n",
        "\n",
        "#   for i in range(len(data[0])):\n",
        "#     str_complete = p + data[0][i]\n",
        "#     #print(str_complete)\n",
        "#     img = cv2.imread(str_complete)\n",
        "#     img = cv2.resize(img, (128, 128))\n",
        "#     x.append(img)#Ensure all images are loaded\n",
        "#   data = []\n",
        "\n",
        "# data_x = np.asarray(x)\n",
        "# np.save('/content/drive/MyDrive/PCG_signal_time_frequency_image/Physionet_Database_Evaluation/freq_x',data_x)"
      ]
    },
    {
      "cell_type": "code",
      "execution_count": null,
      "metadata": {
        "id": "Ti9bucS_YxWr"
      },
      "outputs": [],
      "source": [
        "# y = np.zeros(1000)\n",
        "# y[500:] = 1\n",
        "# np.save('/content/drive/MyDrive/PCG_signal_time_frequency_image/Physionet_Database_Evaluation/freq_y',y)"
      ]
    },
    {
      "cell_type": "code",
      "execution_count": null,
      "metadata": {
        "id": "cnYSiT5mVspP"
      },
      "outputs": [],
      "source": [
        "x  = np.load(\"/content/drive/MyDrive/PCG_signal_time_frequency_image/Physionet_Database_Evaluation/freq_x.npy\")\n",
        "y = np.load(\"/content/drive/MyDrive/PCG_signal_time_frequency_image/Physionet_Database_Evaluation/freq_y.npy\")"
      ]
    },
    {
      "cell_type": "code",
      "execution_count": null,
      "metadata": {
        "id": "irQjVcqOXsMn"
      },
      "outputs": [],
      "source": [
        "x_train, x_test, y_train, y_test = train_test_split(x, y, test_size=0.1, random_state=1)\n",
        "x_train, x_val, y_train, y_val = train_test_split(x_train, y_train, test_size=1/8, random_state=1)\n",
        "\n",
        "y_tr_one_hot  = np.zeros((np.array(y_train).shape[0],2))\n",
        "for i in range(np.array(y_train).shape[0]):\n",
        "  label = y_train[i]\n",
        "  y_tr_one_hot[i][int(label)] = 1\n",
        "\n",
        "y_te_one_hot  = np.zeros((np.array(y_test).shape[0],2))\n",
        "for i in range(np.array(y_test).shape[0]):\n",
        "  label = y_test[i]\n",
        "  y_te_one_hot[i][int(label)] = 1\n",
        "\n",
        "y_val_one_hot  = np.zeros((np.array(y_val).shape[0],2))\n",
        "for i in range(np.array(y_val).shape[0]):\n",
        "  label = y_val[i]\n",
        "  y_val_one_hot[i][int(label)] = 1"
      ]
    },
    {
      "cell_type": "code",
      "execution_count": null,
      "metadata": {
        "colab": {
          "background_save": true,
          "base_uri": "https://localhost:8080/"
        },
        "id": "XZFlXdFnYP5U",
        "outputId": "3eab3679-e0bc-4af6-874e-1ba8f8611fce"
      },
      "outputs": [
        {
          "name": "stdout",
          "output_type": "stream",
          "text": [
            "Downloading data from https://storage.googleapis.com/tensorflow/keras-applications/vgg19/vgg19_weights_tf_dim_ordering_tf_kernels_notop.h5\n",
            "80142336/80134624 [==============================] - 1s 0us/step\n",
            "80150528/80134624 [==============================] - 1s 0us/step\n",
            "Epoch 1/25\n"
          ]
        },
        {
          "name": "stderr",
          "output_type": "stream",
          "text": [
            "/usr/local/lib/python3.7/dist-packages/keras/optimizer_v2/adam.py:105: UserWarning: The `lr` argument is deprecated, use `learning_rate` instead.\n",
            "  super(Adam, self).__init__(name, **kwargs)\n"
          ]
        },
        {
          "name": "stdout",
          "output_type": "stream",
          "text": [
            "2/2 [==============================] - 26s 12s/step - loss: 16.7274 - accuracy: 0.4956 - val_loss: 10.0464 - val_accuracy: 0.4867\n",
            "Epoch 2/25\n",
            "2/2 [==============================] - 1s 294ms/step - loss: 9.3120 - accuracy: 0.4841 - val_loss: 1.6278 - val_accuracy: 0.4956\n",
            "Epoch 3/25\n",
            "2/2 [==============================] - 1s 290ms/step - loss: 1.7403 - accuracy: 0.5121 - val_loss: 2.5634 - val_accuracy: 0.4867\n",
            "Epoch 4/25\n",
            "2/2 [==============================] - 1s 288ms/step - loss: 1.9375 - accuracy: 0.5388 - val_loss: 0.7182 - val_accuracy: 0.6814\n",
            "Epoch 5/25\n",
            "2/2 [==============================] - 1s 289ms/step - loss: 0.7778 - accuracy: 0.6442 - val_loss: 1.5570 - val_accuracy: 0.5221\n",
            "Epoch 6/25\n",
            "2/2 [==============================] - 1s 288ms/step - loss: 1.3940 - accuracy: 0.5260 - val_loss: 0.7124 - val_accuracy: 0.6460\n",
            "Epoch 7/25\n",
            "2/2 [==============================] - 1s 288ms/step - loss: 0.9130 - accuracy: 0.6163 - val_loss: 1.1794 - val_accuracy: 0.5044\n",
            "Epoch 8/25\n",
            "2/2 [==============================] - 1s 290ms/step - loss: 0.9389 - accuracy: 0.6137 - val_loss: 1.2699 - val_accuracy: 0.5310\n",
            "Epoch 9/25\n",
            "2/2 [==============================] - 1s 288ms/step - loss: 1.0227 - accuracy: 0.5680 - val_loss: 0.8891 - val_accuracy: 0.5752\n",
            "Epoch 10/25\n",
            "2/2 [==============================] - 1s 286ms/step - loss: 0.7237 - accuracy: 0.6569 - val_loss: 0.6911 - val_accuracy: 0.6637\n",
            "Epoch 11/25\n",
            "2/2 [==============================] - 1s 286ms/step - loss: 0.6277 - accuracy: 0.7052 - val_loss: 0.7147 - val_accuracy: 0.6460\n",
            "Epoch 12/25\n",
            "2/2 [==============================] - 1s 289ms/step - loss: 0.5730 - accuracy: 0.7179 - val_loss: 1.0875 - val_accuracy: 0.5133\n",
            "Epoch 13/25\n",
            "2/2 [==============================] - 1s 296ms/step - loss: 0.7508 - accuracy: 0.6112 - val_loss: 0.8762 - val_accuracy: 0.5929\n",
            "Epoch 14/25\n",
            "2/2 [==============================] - 1s 287ms/step - loss: 0.6751 - accuracy: 0.6379 - val_loss: 0.7179 - val_accuracy: 0.6195\n",
            "Epoch 15/25\n",
            "2/2 [==============================] - 1s 290ms/step - loss: 0.6215 - accuracy: 0.7039 - val_loss: 0.7488 - val_accuracy: 0.6195\n",
            "Epoch 16/25\n",
            "2/2 [==============================] - 1s 289ms/step - loss: 0.5354 - accuracy: 0.7395 - val_loss: 0.8007 - val_accuracy: 0.6460\n",
            "Epoch 17/25\n",
            "2/2 [==============================] - 1s 289ms/step - loss: 0.5353 - accuracy: 0.7459 - val_loss: 0.8003 - val_accuracy: 0.6106\n",
            "Epoch 18/25\n",
            "2/2 [==============================] - 1s 289ms/step - loss: 0.5192 - accuracy: 0.7510 - val_loss: 0.7149 - val_accuracy: 0.6637\n",
            "Epoch 19/25\n",
            "2/2 [==============================] - 1s 290ms/step - loss: 0.4879 - accuracy: 0.7535 - val_loss: 0.6907 - val_accuracy: 0.6726\n",
            "Epoch 20/25\n",
            "2/2 [==============================] - 1s 295ms/step - loss: 0.4285 - accuracy: 0.8043 - val_loss: 0.8086 - val_accuracy: 0.6018\n",
            "Epoch 21/25\n",
            "2/2 [==============================] - 1s 287ms/step - loss: 0.4524 - accuracy: 0.7700 - val_loss: 0.7884 - val_accuracy: 0.6283\n",
            "Epoch 22/25\n",
            "2/2 [==============================] - 1s 288ms/step - loss: 0.4561 - accuracy: 0.7776 - val_loss: 0.7022 - val_accuracy: 0.6283\n",
            "Epoch 23/25\n",
            "2/2 [==============================] - 1s 288ms/step - loss: 0.4578 - accuracy: 0.7802 - val_loss: 0.7063 - val_accuracy: 0.6283\n",
            "Epoch 24/25\n",
            "2/2 [==============================] - 1s 289ms/step - loss: 0.4001 - accuracy: 0.8069 - val_loss: 0.7324 - val_accuracy: 0.6814\n",
            "Epoch 25/25\n",
            "2/2 [==============================] - 1s 291ms/step - loss: 0.3927 - accuracy: 0.8183 - val_loss: 0.6866 - val_accuracy: 0.6549\n"
          ]
        },
        {
          "data": {
            "text/plain": [
              "<keras.callbacks.History at 0x7f4d1691a210>"
            ]
          },
          "execution_count": null,
          "metadata": {},
          "output_type": "execute_result"
        }
      ],
      "source": [
        "##Define model\n",
        "def model_define():\n",
        "  model=Sequential()\n",
        "  model.add(Conv2D(60, kernel_size=(3, 3), activation='relu',input_shape=(128,128,3)))\n",
        "  model.add(BatchNormalization())\n",
        "  model.add(MaxPooling2D((2, 2)))\n",
        "  model.add(Conv2D(100, (5, 5), activation='relu'))\n",
        "  model.add(BatchNormalization())\n",
        "  model.add(MaxPooling2D((2, 2)))\n",
        "  model.add(Conv2D(120, (5, 5), activation='relu'))\n",
        "  #model.add(BatchNormalization())\n",
        "  model.add(MaxPooling2D((2, 2)))\n",
        "  model.add(Conv2D(120, (3, 3), activation='relu'))\n",
        "  #model.add(BatchNormalization())\n",
        "  model.add(MaxPooling2D((2, 2)))\n",
        "  model.add(Flatten())\n",
        "  model.add(Dense(700, activation='relu'))\n",
        "  model.add(Dropout(0.3))\n",
        "  model.add(Dense(200, activation='relu'))\n",
        "  model.add(Dropout(0.2))\n",
        "  model.add(Dense(100,activation='relu'))\n",
        "  #model.add(Dropout(0.2))\n",
        "  model.add(Dense(50,activation='relu'))\n",
        "  model.add(Dense(2,activation='softmax'))\n",
        "  return model\n",
        "\n",
        "K.clear_session()\n",
        "#model = model_define()\n",
        "#print(modelf.summary())\n",
        "\n",
        "model = tf.keras.applications.VGG19(include_top=False,input_shape=(128,128,3))\n",
        "# mark loaded layers as not trainable\n",
        "for layer in model.layers:\n",
        "\tlayer.trainable = False\n",
        "# add new classifier layers\n",
        "flat1 = Flatten()(model.layers[-1].output)\n",
        "#class1 = Dense(2048, activation='relu')(flat1)\n",
        "class2 = Dense(1024, activation='relu')(flat1)\n",
        "class3 = Dense(512, activation='relu')(class2)\n",
        "class4 = Dense(256,activation='relu')(class3)\n",
        "class5 = Dense(128,activation='relu')(class4)\n",
        "output = Dense(2, activation='softmax')(class5)\n",
        "model = Model(inputs=model.inputs, outputs=output)\n",
        "\n",
        "optimizer = tf.keras.optimizers.Adam(lr=0.000001)\n",
        "model.compile(loss='categorical_crossentropy', optimizer='adam', metrics=['accuracy'])\n",
        "model.fit(np.array(x_train), y_tr_one_hot, validation_data=(np.array(x_val), y_val_one_hot), epochs=25, batch_size=512,verbose=1)"
      ]
    },
    {
      "cell_type": "code",
      "execution_count": null,
      "metadata": {
        "colab": {
          "base_uri": "https://localhost:8080/"
        },
        "id": "te3zxcpPatPA",
        "outputId": "9b7fc95a-b0f7-479e-8c23-ba274c97625e"
      },
      "outputs": [
        {
          "name": "stdout",
          "output_type": "stream",
          "text": [
            "0.699999988079071\n",
            "confusion matrix \n",
            " [[35 14]\n",
            " [16 35]]\n"
          ]
        }
      ],
      "source": [
        "test_loss, test_acc = model.evaluate(np.array(x_test), np.array(y_te_one_hot), verbose=0)\n",
        "print(test_acc)\n",
        "##Evaluating Sensitivity, Accuracy and Kappa scores\n",
        "y_prob = model.predict(x_test) \n",
        "Y_pred = y_prob.argmax(axis=-1)\n",
        "\n",
        "cm1 = confusion_matrix(y_test,Y_pred)\n",
        "print(\"confusion matrix \\n\",cm1)"
      ]
    },
    {
      "cell_type": "markdown",
      "source": [
        "**Auto-Keras Code**"
      ],
      "metadata": {
        "id": "8e2LbIi53kEb"
      }
    },
    {
      "cell_type": "code",
      "execution_count": null,
      "metadata": {
        "id": "Aj9dq3MkafVG"
      },
      "outputs": [],
      "source": [
        "input_node = ak.ImageInput()\n",
        "output_node = ak.Normalization()(input_node)\n",
        "output_node1 = ak.ConvBlock()(output_node)\n",
        "output_node2 = ak.ConvBlock()(output_node1)\n",
        "output_node = ak.ClassificationHead()(output_node)\n",
        "\n",
        "auto_model = ak.AutoModel(\n",
        "    inputs=input_node, outputs=output_node, overwrite=True,\n",
        ")"
      ]
    },
    {
      "cell_type": "code",
      "source": [
        "print(x_train.shape)  # (60000, 28, 28)\n",
        "print(y_tr_one_hot.shape)  # (60000,)\n",
        "#print(y_train)  # array([7, 2, 1], dtype=uint8)\n",
        "\n",
        "# Feed the AutoModel with training data.\n",
        "auto_model.fit(x_train, y_train, epochs=50)\n",
        "# Predict with the best model.\n",
        "predicted_y = auto_model.predict(x_test)\n",
        "# Evaluate the best model with testing data.\n",
        "print(auto_model.evaluate(x_test, y_test))"
      ],
      "metadata": {
        "colab": {
          "base_uri": "https://localhost:8080/"
        },
        "id": "erdNEmwe3rYr",
        "outputId": "0027d201-2cef-4c21-a4a1-ee47c5f7b159"
      },
      "execution_count": null,
      "outputs": [
        {
          "output_type": "stream",
          "name": "stdout",
          "text": [
            "Trial 17 Complete [00h 00m 52s]\n",
            "val_loss: 0.921077311038971\n",
            "\n",
            "Best val_loss So Far: 0.6870185732841492\n",
            "Total elapsed time: 00h 07m 27s\n",
            "INFO:tensorflow:Oracle triggered exit\n",
            "Epoch 1/50\n",
            "25/25 [==============================] - 1s 36ms/step - loss: 0.9506 - accuracy: 0.4828\n",
            "Epoch 2/50\n",
            "25/25 [==============================] - 1s 36ms/step - loss: 0.8788 - accuracy: 0.4930\n",
            "Epoch 3/50\n",
            "25/25 [==============================] - 1s 36ms/step - loss: 0.7865 - accuracy: 0.5667\n",
            "Epoch 4/50\n",
            "25/25 [==============================] - 1s 36ms/step - loss: 0.6974 - accuracy: 0.6125\n",
            "Epoch 5/50\n",
            "25/25 [==============================] - 1s 36ms/step - loss: 0.5806 - accuracy: 0.7052\n",
            "Epoch 6/50\n",
            "25/25 [==============================] - 1s 37ms/step - loss: 0.5200 - accuracy: 0.7421\n",
            "Epoch 7/50\n",
            "25/25 [==============================] - 1s 37ms/step - loss: 0.4476 - accuracy: 0.7942\n",
            "Epoch 8/50\n",
            "25/25 [==============================] - 1s 36ms/step - loss: 0.3939 - accuracy: 0.8272\n",
            "Epoch 9/50\n",
            "25/25 [==============================] - 1s 36ms/step - loss: 0.3538 - accuracy: 0.8513\n",
            "Epoch 10/50\n",
            "25/25 [==============================] - 1s 36ms/step - loss: 0.3152 - accuracy: 0.8907\n",
            "Epoch 11/50\n",
            "25/25 [==============================] - 1s 37ms/step - loss: 0.2846 - accuracy: 0.9111\n",
            "Epoch 12/50\n",
            "25/25 [==============================] - 1s 37ms/step - loss: 0.2676 - accuracy: 0.9098\n",
            "Epoch 13/50\n",
            "25/25 [==============================] - 1s 37ms/step - loss: 0.2341 - accuracy: 0.9403\n",
            "Epoch 14/50\n",
            "25/25 [==============================] - 1s 37ms/step - loss: 0.2187 - accuracy: 0.9314\n",
            "Epoch 15/50\n",
            "25/25 [==============================] - 1s 37ms/step - loss: 0.1950 - accuracy: 0.9492\n",
            "Epoch 16/50\n",
            "25/25 [==============================] - 1s 38ms/step - loss: 0.1824 - accuracy: 0.9593\n",
            "Epoch 17/50\n",
            "25/25 [==============================] - 1s 37ms/step - loss: 0.1820 - accuracy: 0.9504\n",
            "Epoch 18/50\n",
            "25/25 [==============================] - 1s 37ms/step - loss: 0.1638 - accuracy: 0.9581\n",
            "Epoch 19/50\n",
            "25/25 [==============================] - 1s 38ms/step - loss: 0.1627 - accuracy: 0.9504\n",
            "Epoch 20/50\n",
            "25/25 [==============================] - 1s 38ms/step - loss: 0.1736 - accuracy: 0.9479\n",
            "Epoch 21/50\n",
            "25/25 [==============================] - 1s 37ms/step - loss: 0.1874 - accuracy: 0.9314\n",
            "Epoch 22/50\n",
            "25/25 [==============================] - 1s 37ms/step - loss: 0.1717 - accuracy: 0.9416\n",
            "Epoch 23/50\n",
            "25/25 [==============================] - 1s 37ms/step - loss: 0.1504 - accuracy: 0.9670\n",
            "Epoch 24/50\n",
            "25/25 [==============================] - 1s 37ms/step - loss: 0.1437 - accuracy: 0.9644\n",
            "Epoch 25/50\n",
            "25/25 [==============================] - 1s 38ms/step - loss: 0.1290 - accuracy: 0.9695\n",
            "Epoch 26/50\n",
            "25/25 [==============================] - 1s 36ms/step - loss: 0.1294 - accuracy: 0.9670\n",
            "Epoch 27/50\n",
            "25/25 [==============================] - 1s 37ms/step - loss: 0.1195 - accuracy: 0.9797\n",
            "Epoch 28/50\n",
            "25/25 [==============================] - 1s 37ms/step - loss: 0.1108 - accuracy: 0.9784\n",
            "Epoch 29/50\n",
            "25/25 [==============================] - 1s 37ms/step - loss: 0.0993 - accuracy: 0.9860\n",
            "Epoch 30/50\n",
            "25/25 [==============================] - 1s 36ms/step - loss: 0.0962 - accuracy: 0.9886\n",
            "Epoch 31/50\n",
            "25/25 [==============================] - 1s 37ms/step - loss: 0.0864 - accuracy: 0.9962\n",
            "Epoch 32/50\n",
            "25/25 [==============================] - 1s 37ms/step - loss: 0.0890 - accuracy: 0.9873\n",
            "Epoch 33/50\n",
            "25/25 [==============================] - 1s 37ms/step - loss: 0.0790 - accuracy: 0.9949\n",
            "Epoch 34/50\n",
            "25/25 [==============================] - 1s 37ms/step - loss: 0.0749 - accuracy: 0.9962\n",
            "Epoch 35/50\n",
            "25/25 [==============================] - 1s 37ms/step - loss: 0.0726 - accuracy: 0.9949\n",
            "Epoch 36/50\n",
            "25/25 [==============================] - 1s 37ms/step - loss: 0.0656 - accuracy: 0.9975\n",
            "Epoch 37/50\n",
            "25/25 [==============================] - 1s 37ms/step - loss: 0.0693 - accuracy: 0.9962\n",
            "Epoch 38/50\n",
            "25/25 [==============================] - 1s 37ms/step - loss: 0.0645 - accuracy: 0.9949\n",
            "Epoch 39/50\n",
            "25/25 [==============================] - 1s 37ms/step - loss: 0.0640 - accuracy: 0.9962\n",
            "Epoch 40/50\n",
            "25/25 [==============================] - 1s 37ms/step - loss: 0.0602 - accuracy: 0.9962\n",
            "Epoch 41/50\n",
            "25/25 [==============================] - 1s 37ms/step - loss: 0.0588 - accuracy: 0.9975\n",
            "Epoch 42/50\n",
            "25/25 [==============================] - 1s 37ms/step - loss: 0.0582 - accuracy: 0.9949\n",
            "Epoch 43/50\n",
            "25/25 [==============================] - 1s 38ms/step - loss: 0.0546 - accuracy: 0.9975\n",
            "Epoch 44/50\n",
            "25/25 [==============================] - 1s 38ms/step - loss: 0.0554 - accuracy: 0.9987\n",
            "Epoch 45/50\n",
            "25/25 [==============================] - 1s 37ms/step - loss: 0.0511 - accuracy: 0.9987\n",
            "Epoch 46/50\n",
            "25/25 [==============================] - 1s 37ms/step - loss: 0.0538 - accuracy: 0.9987\n",
            "Epoch 47/50\n",
            "25/25 [==============================] - 1s 36ms/step - loss: 0.0522 - accuracy: 0.9987\n",
            "Epoch 48/50\n",
            "25/25 [==============================] - 1s 37ms/step - loss: 0.0527 - accuracy: 0.9975\n",
            "Epoch 49/50\n",
            "25/25 [==============================] - 1s 37ms/step - loss: 0.0538 - accuracy: 0.9987\n",
            "Epoch 50/50\n",
            "25/25 [==============================] - 1s 37ms/step - loss: 0.0546 - accuracy: 0.9975\n",
            "INFO:tensorflow:Assets written to: ./auto_model/best_model/assets\n",
            "4/4 [==============================] - 0s 14ms/step\n",
            "4/4 [==============================] - 0s 15ms/step - loss: 0.7059 - accuracy: 0.7600\n",
            "[0.7058757543563843, 0.7599999904632568]\n"
          ]
        }
      ]
    },
    {
      "cell_type": "code",
      "source": [
        "##Define model\n",
        "test_acc_list = []\n",
        "K_cappa_list = []\n",
        "precision_list = []\n",
        "recall_list = []\n",
        "F1_list = []\n",
        "\n",
        "for iter in range(5):\n",
        "  print(\"Trial Number : \", (iter+1))\n",
        "\n",
        "  x_train, x_test, y_train, y_test = train_test_split(x, y, test_size=0.2, random_state=1)\n",
        "  #x_train, x_val, y_train, y_val = train_test_split(x_train, y_train, test_size=1/8, random_state=1)\n",
        "\n",
        "  predicted_y = auto_model.predict(x_test)\n",
        "\n",
        "  p_list = predicted_y.reshape(200).tolist()\n",
        "  p_list_int = []\n",
        "  for i in p_list:\n",
        "    p_list_int.append(int(i))\n",
        "\n",
        "  K_cappa = sklearn.metrics.cohen_kappa_score(y_test,p_list_int)\n",
        "  print(\"cohen kappa scores:\" ,K_cappa)\n",
        "  K_cappa_list.append(K_cappa)\n",
        "\n",
        "  cm1 = confusion_matrix(y_test,p_list_int)\n",
        "  print(\"confusion matrix \\n\",cm1)\n",
        "\n",
        "  precision = sklearn.metrics.precision_score(y_test,p_list_int,average='micro')\n",
        "  print('precision : ', precision)\n",
        "  precision_list.append(precision)\n",
        "\n",
        "  recall = sklearn.metrics.recall_score(y_test,p_list_int,average='micro')\n",
        "  print('recall : ', recall)\n",
        "  recall_list.append(recall)\n",
        "\n",
        "  F1 = sklearn.metrics.f1_score(y_test,p_list_int,average=\"micro\")\n",
        "  print(\"F1 : \", F1)\n",
        "  F1_list.append(F1)\n",
        "\n",
        "#  print('5-Trial Accuracy:',sum(test_acc_list)/len(test_acc_list))\n",
        "  print(\"5-Trial cohen kappa scores:\" ,sum(K_cappa_list)/len(K_cappa_list))\n",
        "  print('5-Trial precision : ', sum(precision_list)/len(precision_list))\n",
        "  print('5-Trial recall : ', sum(recall_list)/len(recall_list))\n",
        "  print(\"5-Trial F1 : \", sum(F1_list)/len(F1_list))"
      ],
      "metadata": {
        "id": "K6XjTtrr3xKt",
        "colab": {
          "base_uri": "https://localhost:8080/"
        },
        "outputId": "db72db02-29a8-4425-9c44-adde775686b2"
      },
      "execution_count": null,
      "outputs": [
        {
          "output_type": "stream",
          "name": "stdout",
          "text": [
            "Trial Number :  1\n",
            "7/7 [==============================] - 0s 18ms/step\n",
            "cohen kappa scores: 0.6794871794871795\n",
            "confusion matrix \n",
            " [[80 16]\n",
            " [16 88]]\n",
            "precision :  0.84\n",
            "recall :  0.84\n",
            "F1 :  0.8399999999999999\n",
            "5-Trial cohen kappa scores: 0.6794871794871795\n",
            "5-Trial precision :  0.84\n",
            "5-Trial recall :  0.84\n",
            "5-Trial F1 :  0.8399999999999999\n",
            "Trial Number :  2\n",
            "7/7 [==============================] - 0s 17ms/step\n",
            "cohen kappa scores: 0.6794871794871795\n",
            "confusion matrix \n",
            " [[80 16]\n",
            " [16 88]]\n",
            "precision :  0.84\n",
            "recall :  0.84\n",
            "F1 :  0.8399999999999999\n",
            "5-Trial cohen kappa scores: 0.6794871794871795\n",
            "5-Trial precision :  0.84\n",
            "5-Trial recall :  0.84\n",
            "5-Trial F1 :  0.8399999999999999\n",
            "Trial Number :  3\n",
            "7/7 [==============================] - 0s 18ms/step\n",
            "cohen kappa scores: 0.6794871794871795\n",
            "confusion matrix \n",
            " [[80 16]\n",
            " [16 88]]\n",
            "precision :  0.84\n",
            "recall :  0.84\n",
            "F1 :  0.8399999999999999\n",
            "5-Trial cohen kappa scores: 0.6794871794871794\n",
            "5-Trial precision :  0.84\n",
            "5-Trial recall :  0.84\n",
            "5-Trial F1 :  0.8399999999999999\n",
            "Trial Number :  4\n",
            "7/7 [==============================] - 0s 19ms/step\n",
            "cohen kappa scores: 0.6794871794871795\n",
            "confusion matrix \n",
            " [[80 16]\n",
            " [16 88]]\n",
            "precision :  0.84\n",
            "recall :  0.84\n",
            "F1 :  0.8399999999999999\n",
            "5-Trial cohen kappa scores: 0.6794871794871795\n",
            "5-Trial precision :  0.84\n",
            "5-Trial recall :  0.84\n",
            "5-Trial F1 :  0.8399999999999999\n",
            "Trial Number :  5\n",
            "7/7 [==============================] - 0s 18ms/step\n",
            "cohen kappa scores: 0.6794871794871795\n",
            "confusion matrix \n",
            " [[80 16]\n",
            " [16 88]]\n",
            "precision :  0.84\n",
            "recall :  0.84\n",
            "F1 :  0.8399999999999999\n",
            "5-Trial cohen kappa scores: 0.6794871794871795\n",
            "5-Trial precision :  0.8400000000000001\n",
            "5-Trial recall :  0.8400000000000001\n",
            "5-Trial F1 :  0.8399999999999999\n"
          ]
        }
      ]
    },
    {
      "cell_type": "code",
      "source": [
        ""
      ],
      "metadata": {
        "id": "tfyPsvotFdxl"
      },
      "execution_count": null,
      "outputs": []
    }
  ],
  "metadata": {
    "colab": {
      "name": "PCG_Signals.ipynb",
      "provenance": []
    },
    "kernelspec": {
      "display_name": "Python 3",
      "name": "python3"
    },
    "language_info": {
      "name": "python"
    }
  },
  "nbformat": 4,
  "nbformat_minor": 0
}