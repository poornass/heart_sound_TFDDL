{
  "nbformat": 4,
  "nbformat_minor": 0,
  "metadata": {
    "colab": {
      "name": "physionet_unbalanced_case.ipynb",
      "provenance": []
    },
    "kernelspec": {
      "name": "python3",
      "display_name": "Python 3"
    },
    "language_info": {
      "name": "python"
    }
  },
  "cells": [
    {
      "cell_type": "code",
      "source": [
        "from google.colab import drive\n",
        "drive.mount('/content/drive')"
      ],
      "metadata": {
        "colab": {
          "base_uri": "https://localhost:8080/"
        },
        "id": "bF9TpQaKHei6",
        "outputId": "b0312ab9-6649-4221-eb09-9f857fdf044c"
      },
      "execution_count": 1,
      "outputs": [
        {
          "output_type": "stream",
          "name": "stdout",
          "text": [
            "Mounted at /content/drive\n"
          ]
        }
      ]
    },
    {
      "cell_type": "code",
      "execution_count": 2,
      "metadata": {
        "colab": {
          "base_uri": "https://localhost:8080/"
        },
        "id": "bH7b6EkFHW5B",
        "outputId": "fcb9096e-94c9-4346-ea77-4a12307c67ee"
      },
      "outputs": [
        {
          "output_type": "stream",
          "name": "stdout",
          "text": [
            "Collecting autokeras\n",
            "  Downloading autokeras-1.0.16.post1-py3-none-any.whl (166 kB)\n",
            "\u001b[?25l\r\u001b[K     |██                              | 10 kB 29.0 MB/s eta 0:00:01\r\u001b[K     |████                            | 20 kB 33.0 MB/s eta 0:00:01\r\u001b[K     |██████                          | 30 kB 13.3 MB/s eta 0:00:01\r\u001b[K     |███████▉                        | 40 kB 10.4 MB/s eta 0:00:01\r\u001b[K     |█████████▉                      | 51 kB 8.0 MB/s eta 0:00:01\r\u001b[K     |███████████▉                    | 61 kB 8.3 MB/s eta 0:00:01\r\u001b[K     |█████████████▊                  | 71 kB 7.0 MB/s eta 0:00:01\r\u001b[K     |███████████████▊                | 81 kB 7.8 MB/s eta 0:00:01\r\u001b[K     |█████████████████▊              | 92 kB 6.5 MB/s eta 0:00:01\r\u001b[K     |███████████████████▋            | 102 kB 7.0 MB/s eta 0:00:01\r\u001b[K     |█████████████████████▋          | 112 kB 7.0 MB/s eta 0:00:01\r\u001b[K     |███████████████████████▋        | 122 kB 7.0 MB/s eta 0:00:01\r\u001b[K     |█████████████████████████▌      | 133 kB 7.0 MB/s eta 0:00:01\r\u001b[K     |███████████████████████████▌    | 143 kB 7.0 MB/s eta 0:00:01\r\u001b[K     |█████████████████████████████▌  | 153 kB 7.0 MB/s eta 0:00:01\r\u001b[K     |███████████████████████████████▍| 163 kB 7.0 MB/s eta 0:00:01\r\u001b[K     |████████████████████████████████| 166 kB 7.0 MB/s \n",
            "\u001b[?25hRequirement already satisfied: scikit-learn in /usr/local/lib/python3.7/dist-packages (from autokeras) (1.0.2)\n",
            "Requirement already satisfied: packaging in /usr/local/lib/python3.7/dist-packages (from autokeras) (21.3)\n",
            "Collecting keras-tuner<1.1,>=1.0.2\n",
            "  Downloading keras_tuner-1.0.4-py3-none-any.whl (97 kB)\n",
            "\u001b[?25l\r\u001b[K     |███▍                            | 10 kB 43.0 MB/s eta 0:00:01\r\u001b[K     |██████▊                         | 20 kB 44.9 MB/s eta 0:00:01\r\u001b[K     |██████████                      | 30 kB 54.3 MB/s eta 0:00:01\r\u001b[K     |█████████████▍                  | 40 kB 53.7 MB/s eta 0:00:01\r\u001b[K     |████████████████▊               | 51 kB 56.3 MB/s eta 0:00:01\r\u001b[K     |████████████████████            | 61 kB 61.9 MB/s eta 0:00:01\r\u001b[K     |███████████████████████▍        | 71 kB 65.0 MB/s eta 0:00:01\r\u001b[K     |██████████████████████████▊     | 81 kB 60.4 MB/s eta 0:00:01\r\u001b[K     |██████████████████████████████▏ | 92 kB 60.6 MB/s eta 0:00:01\r\u001b[K     |████████████████████████████████| 97 kB 8.6 MB/s \n",
            "\u001b[?25hRequirement already satisfied: pandas in /usr/local/lib/python3.7/dist-packages (from autokeras) (1.1.5)\n",
            "Collecting tensorflow<2.6,>=2.3.0\n",
            "  Downloading tensorflow-2.5.2-cp37-cp37m-manylinux2010_x86_64.whl (454.4 MB)\n",
            "\u001b[K     |████████████████████████████████| 454.4 MB 22 kB/s \n",
            "\u001b[?25hRequirement already satisfied: tensorboard in /usr/local/lib/python3.7/dist-packages (from keras-tuner<1.1,>=1.0.2->autokeras) (2.7.0)\n",
            "Requirement already satisfied: ipython in /usr/local/lib/python3.7/dist-packages (from keras-tuner<1.1,>=1.0.2->autokeras) (5.5.0)\n",
            "Requirement already satisfied: numpy in /usr/local/lib/python3.7/dist-packages (from keras-tuner<1.1,>=1.0.2->autokeras) (1.19.5)\n",
            "Requirement already satisfied: scipy in /usr/local/lib/python3.7/dist-packages (from keras-tuner<1.1,>=1.0.2->autokeras) (1.4.1)\n",
            "Collecting kt-legacy\n",
            "  Downloading kt_legacy-1.0.4-py3-none-any.whl (9.6 kB)\n",
            "Requirement already satisfied: requests in /usr/local/lib/python3.7/dist-packages (from keras-tuner<1.1,>=1.0.2->autokeras) (2.23.0)\n",
            "Collecting flatbuffers~=1.12.0\n",
            "  Downloading flatbuffers-1.12-py2.py3-none-any.whl (15 kB)\n",
            "Collecting keras-nightly~=2.5.0.dev\n",
            "  Downloading keras_nightly-2.5.0.dev2021032900-py2.py3-none-any.whl (1.2 MB)\n",
            "\u001b[K     |████████████████████████████████| 1.2 MB 60.5 MB/s \n",
            "\u001b[?25hCollecting wrapt~=1.12.1\n",
            "  Downloading wrapt-1.12.1.tar.gz (27 kB)\n",
            "Requirement already satisfied: opt-einsum~=3.3.0 in /usr/local/lib/python3.7/dist-packages (from tensorflow<2.6,>=2.3.0->autokeras) (3.3.0)\n",
            "Requirement already satisfied: google-pasta~=0.2 in /usr/local/lib/python3.7/dist-packages (from tensorflow<2.6,>=2.3.0->autokeras) (0.2.0)\n",
            "Requirement already satisfied: absl-py~=0.10 in /usr/local/lib/python3.7/dist-packages (from tensorflow<2.6,>=2.3.0->autokeras) (0.12.0)\n",
            "Requirement already satisfied: termcolor~=1.1.0 in /usr/local/lib/python3.7/dist-packages (from tensorflow<2.6,>=2.3.0->autokeras) (1.1.0)\n",
            "Collecting typing-extensions~=3.7.4\n",
            "  Downloading typing_extensions-3.7.4.3-py3-none-any.whl (22 kB)\n",
            "Collecting tensorflow-estimator<2.6.0,>=2.5.0\n",
            "  Downloading tensorflow_estimator-2.5.0-py2.py3-none-any.whl (462 kB)\n",
            "\u001b[K     |████████████████████████████████| 462 kB 60.3 MB/s \n",
            "\u001b[?25hRequirement already satisfied: gast==0.4.0 in /usr/local/lib/python3.7/dist-packages (from tensorflow<2.6,>=2.3.0->autokeras) (0.4.0)\n",
            "Collecting grpcio~=1.34.0\n",
            "  Downloading grpcio-1.34.1-cp37-cp37m-manylinux2014_x86_64.whl (4.0 MB)\n",
            "\u001b[K     |████████████████████████████████| 4.0 MB 39.5 MB/s \n",
            "\u001b[?25hRequirement already satisfied: keras-preprocessing~=1.1.2 in /usr/local/lib/python3.7/dist-packages (from tensorflow<2.6,>=2.3.0->autokeras) (1.1.2)\n",
            "Requirement already satisfied: wheel~=0.35 in /usr/local/lib/python3.7/dist-packages (from tensorflow<2.6,>=2.3.0->autokeras) (0.37.1)\n",
            "Requirement already satisfied: astunparse~=1.6.3 in /usr/local/lib/python3.7/dist-packages (from tensorflow<2.6,>=2.3.0->autokeras) (1.6.3)\n",
            "Requirement already satisfied: protobuf>=3.9.2 in /usr/local/lib/python3.7/dist-packages (from tensorflow<2.6,>=2.3.0->autokeras) (3.17.3)\n",
            "Requirement already satisfied: six~=1.15.0 in /usr/local/lib/python3.7/dist-packages (from tensorflow<2.6,>=2.3.0->autokeras) (1.15.0)\n",
            "Requirement already satisfied: h5py~=3.1.0 in /usr/local/lib/python3.7/dist-packages (from tensorflow<2.6,>=2.3.0->autokeras) (3.1.0)\n",
            "Requirement already satisfied: cached-property in /usr/local/lib/python3.7/dist-packages (from h5py~=3.1.0->tensorflow<2.6,>=2.3.0->autokeras) (1.5.2)\n",
            "Requirement already satisfied: tensorboard-plugin-wit>=1.6.0 in /usr/local/lib/python3.7/dist-packages (from tensorboard->keras-tuner<1.1,>=1.0.2->autokeras) (1.8.1)\n",
            "Requirement already satisfied: werkzeug>=0.11.15 in /usr/local/lib/python3.7/dist-packages (from tensorboard->keras-tuner<1.1,>=1.0.2->autokeras) (1.0.1)\n",
            "Requirement already satisfied: google-auth-oauthlib<0.5,>=0.4.1 in /usr/local/lib/python3.7/dist-packages (from tensorboard->keras-tuner<1.1,>=1.0.2->autokeras) (0.4.6)\n",
            "Requirement already satisfied: tensorboard-data-server<0.7.0,>=0.6.0 in /usr/local/lib/python3.7/dist-packages (from tensorboard->keras-tuner<1.1,>=1.0.2->autokeras) (0.6.1)\n",
            "Requirement already satisfied: google-auth<3,>=1.6.3 in /usr/local/lib/python3.7/dist-packages (from tensorboard->keras-tuner<1.1,>=1.0.2->autokeras) (1.35.0)\n",
            "Requirement already satisfied: markdown>=2.6.8 in /usr/local/lib/python3.7/dist-packages (from tensorboard->keras-tuner<1.1,>=1.0.2->autokeras) (3.3.6)\n",
            "Requirement already satisfied: setuptools>=41.0.0 in /usr/local/lib/python3.7/dist-packages (from tensorboard->keras-tuner<1.1,>=1.0.2->autokeras) (57.4.0)\n",
            "Requirement already satisfied: pyasn1-modules>=0.2.1 in /usr/local/lib/python3.7/dist-packages (from google-auth<3,>=1.6.3->tensorboard->keras-tuner<1.1,>=1.0.2->autokeras) (0.2.8)\n",
            "Requirement already satisfied: rsa<5,>=3.1.4 in /usr/local/lib/python3.7/dist-packages (from google-auth<3,>=1.6.3->tensorboard->keras-tuner<1.1,>=1.0.2->autokeras) (4.8)\n",
            "Requirement already satisfied: cachetools<5.0,>=2.0.0 in /usr/local/lib/python3.7/dist-packages (from google-auth<3,>=1.6.3->tensorboard->keras-tuner<1.1,>=1.0.2->autokeras) (4.2.4)\n",
            "Requirement already satisfied: requests-oauthlib>=0.7.0 in /usr/local/lib/python3.7/dist-packages (from google-auth-oauthlib<0.5,>=0.4.1->tensorboard->keras-tuner<1.1,>=1.0.2->autokeras) (1.3.0)\n",
            "Requirement already satisfied: importlib-metadata>=4.4 in /usr/local/lib/python3.7/dist-packages (from markdown>=2.6.8->tensorboard->keras-tuner<1.1,>=1.0.2->autokeras) (4.10.0)\n",
            "Requirement already satisfied: zipp>=0.5 in /usr/local/lib/python3.7/dist-packages (from importlib-metadata>=4.4->markdown>=2.6.8->tensorboard->keras-tuner<1.1,>=1.0.2->autokeras) (3.7.0)\n",
            "Requirement already satisfied: pyasn1<0.5.0,>=0.4.6 in /usr/local/lib/python3.7/dist-packages (from pyasn1-modules>=0.2.1->google-auth<3,>=1.6.3->tensorboard->keras-tuner<1.1,>=1.0.2->autokeras) (0.4.8)\n",
            "Requirement already satisfied: urllib3!=1.25.0,!=1.25.1,<1.26,>=1.21.1 in /usr/local/lib/python3.7/dist-packages (from requests->keras-tuner<1.1,>=1.0.2->autokeras) (1.24.3)\n",
            "Requirement already satisfied: chardet<4,>=3.0.2 in /usr/local/lib/python3.7/dist-packages (from requests->keras-tuner<1.1,>=1.0.2->autokeras) (3.0.4)\n",
            "Requirement already satisfied: certifi>=2017.4.17 in /usr/local/lib/python3.7/dist-packages (from requests->keras-tuner<1.1,>=1.0.2->autokeras) (2021.10.8)\n",
            "Requirement already satisfied: idna<3,>=2.5 in /usr/local/lib/python3.7/dist-packages (from requests->keras-tuner<1.1,>=1.0.2->autokeras) (2.10)\n",
            "Requirement already satisfied: oauthlib>=3.0.0 in /usr/local/lib/python3.7/dist-packages (from requests-oauthlib>=0.7.0->google-auth-oauthlib<0.5,>=0.4.1->tensorboard->keras-tuner<1.1,>=1.0.2->autokeras) (3.1.1)\n",
            "Requirement already satisfied: simplegeneric>0.8 in /usr/local/lib/python3.7/dist-packages (from ipython->keras-tuner<1.1,>=1.0.2->autokeras) (0.8.1)\n",
            "Requirement already satisfied: pygments in /usr/local/lib/python3.7/dist-packages (from ipython->keras-tuner<1.1,>=1.0.2->autokeras) (2.6.1)\n",
            "Requirement already satisfied: prompt-toolkit<2.0.0,>=1.0.4 in /usr/local/lib/python3.7/dist-packages (from ipython->keras-tuner<1.1,>=1.0.2->autokeras) (1.0.18)\n",
            "Requirement already satisfied: decorator in /usr/local/lib/python3.7/dist-packages (from ipython->keras-tuner<1.1,>=1.0.2->autokeras) (4.4.2)\n",
            "Requirement already satisfied: pexpect in /usr/local/lib/python3.7/dist-packages (from ipython->keras-tuner<1.1,>=1.0.2->autokeras) (4.8.0)\n",
            "Requirement already satisfied: pickleshare in /usr/local/lib/python3.7/dist-packages (from ipython->keras-tuner<1.1,>=1.0.2->autokeras) (0.7.5)\n",
            "Requirement already satisfied: traitlets>=4.2 in /usr/local/lib/python3.7/dist-packages (from ipython->keras-tuner<1.1,>=1.0.2->autokeras) (5.1.1)\n",
            "Requirement already satisfied: wcwidth in /usr/local/lib/python3.7/dist-packages (from prompt-toolkit<2.0.0,>=1.0.4->ipython->keras-tuner<1.1,>=1.0.2->autokeras) (0.2.5)\n",
            "Requirement already satisfied: pyparsing!=3.0.5,>=2.0.2 in /usr/local/lib/python3.7/dist-packages (from packaging->autokeras) (3.0.6)\n",
            "Requirement already satisfied: python-dateutil>=2.7.3 in /usr/local/lib/python3.7/dist-packages (from pandas->autokeras) (2.8.2)\n",
            "Requirement already satisfied: pytz>=2017.2 in /usr/local/lib/python3.7/dist-packages (from pandas->autokeras) (2018.9)\n",
            "Requirement already satisfied: ptyprocess>=0.5 in /usr/local/lib/python3.7/dist-packages (from pexpect->ipython->keras-tuner<1.1,>=1.0.2->autokeras) (0.7.0)\n",
            "Requirement already satisfied: threadpoolctl>=2.0.0 in /usr/local/lib/python3.7/dist-packages (from scikit-learn->autokeras) (3.0.0)\n",
            "Requirement already satisfied: joblib>=0.11 in /usr/local/lib/python3.7/dist-packages (from scikit-learn->autokeras) (1.1.0)\n",
            "Building wheels for collected packages: wrapt\n",
            "  Building wheel for wrapt (setup.py) ... \u001b[?25l\u001b[?25hdone\n",
            "  Created wheel for wrapt: filename=wrapt-1.12.1-cp37-cp37m-linux_x86_64.whl size=68721 sha256=bd885260756c6fab5671d3c603f70967d668efea196d08d517914cbd192dff85\n",
            "  Stored in directory: /root/.cache/pip/wheels/62/76/4c/aa25851149f3f6d9785f6c869387ad82b3fd37582fa8147ac6\n",
            "Successfully built wrapt\n",
            "Installing collected packages: typing-extensions, grpcio, wrapt, tensorflow-estimator, kt-legacy, keras-nightly, flatbuffers, tensorflow, keras-tuner, autokeras\n",
            "  Attempting uninstall: typing-extensions\n",
            "    Found existing installation: typing-extensions 3.10.0.2\n",
            "    Uninstalling typing-extensions-3.10.0.2:\n",
            "      Successfully uninstalled typing-extensions-3.10.0.2\n",
            "  Attempting uninstall: grpcio\n",
            "    Found existing installation: grpcio 1.43.0\n",
            "    Uninstalling grpcio-1.43.0:\n",
            "      Successfully uninstalled grpcio-1.43.0\n",
            "  Attempting uninstall: wrapt\n",
            "    Found existing installation: wrapt 1.13.3\n",
            "    Uninstalling wrapt-1.13.3:\n",
            "      Successfully uninstalled wrapt-1.13.3\n",
            "  Attempting uninstall: tensorflow-estimator\n",
            "    Found existing installation: tensorflow-estimator 2.7.0\n",
            "    Uninstalling tensorflow-estimator-2.7.0:\n",
            "      Successfully uninstalled tensorflow-estimator-2.7.0\n",
            "  Attempting uninstall: flatbuffers\n",
            "    Found existing installation: flatbuffers 2.0\n",
            "    Uninstalling flatbuffers-2.0:\n",
            "      Successfully uninstalled flatbuffers-2.0\n",
            "  Attempting uninstall: tensorflow\n",
            "    Found existing installation: tensorflow 2.7.0\n",
            "    Uninstalling tensorflow-2.7.0:\n",
            "      Successfully uninstalled tensorflow-2.7.0\n",
            "Successfully installed autokeras-1.0.16.post1 flatbuffers-1.12 grpcio-1.34.1 keras-nightly-2.5.0.dev2021032900 keras-tuner-1.0.4 kt-legacy-1.0.4 tensorflow-2.5.2 tensorflow-estimator-2.5.0 typing-extensions-3.7.4.3 wrapt-1.12.1\n"
          ]
        }
      ],
      "source": [
        "!pip3 install autokeras"
      ]
    },
    {
      "cell_type": "code",
      "source": [
        "from numpy import mean\n",
        "from numpy import std\n",
        "import numpy as np\n",
        "from matplotlib import pyplot\n",
        "from sklearn.model_selection import KFold\n",
        "from tensorflow.keras.datasets import mnist\n",
        "from tensorflow.keras.utils import to_categorical\n",
        "from tensorflow.keras.models import Sequential\n",
        "from tensorflow.keras.layers import Conv2D\n",
        "from tensorflow.keras.layers import MaxPooling2D\n",
        "from tensorflow.keras.layers import Dense\n",
        "from tensorflow.keras.layers import Flatten\n",
        "from tensorflow.keras.optimizers import SGD\n",
        "from tensorflow.keras.layers import Dropout\n",
        "from tensorflow.keras.layers import BatchNormalization\n",
        "import tensorflow as tf\n",
        "from tensorflow.keras.models import Model\n",
        "from tensorflow.keras import backend as K\n",
        "import matplotlib.pyplot as plt\n",
        "import sklearn\n",
        "from sklearn.metrics import confusion_matrix\n",
        "from scipy.io import loadmat\n",
        "import numpy as np\n",
        "import PIL\n",
        "import cv2\n",
        "import os\n",
        "from sklearn.model_selection import train_test_split\n",
        "import autokeras as ak"
      ],
      "metadata": {
        "id": "9DC0OsCqHhPC"
      },
      "execution_count": 3,
      "outputs": []
    },
    {
      "cell_type": "code",
      "source": [
        "x2 = list()\n",
        "data = list()\n",
        "z = 0\n",
        "folder_path_class1b = ('/content/drive/MyDrive/heart_sound_results_eval_new/database_physionet_challenge_all/Annormal/Class2_Image_FPCT_SetA/')\n",
        "folder_path_class2b = ('/content/drive/MyDrive/heart_sound_results_eval_new/database_physionet_challenge_all/Annormal/Class2_Image_FPCT_SetE/')\n",
        "folder_path_class3b = ('/content/drive/MyDrive/heart_sound_results_eval_new/database_physionet_challenge_all/Annormal/class2_image_FPCT_SetB/')\n",
        "folder_path_class4b = ('/content/drive/MyDrive/heart_sound_results_eval_new/database_physionet_challenge_all/Annormal/class2_image_FPCT_SetD/')\n",
        "folder_path_class5b = ('/content/drive/MyDrive/heart_sound_results_eval_new/database_physionet_challenge_all/Annormal/class2_image_FPCT_SetF/')\n",
        "folder_path_class6b = ('/content/drive/MyDrive/heart_sound_results_eval_new/database_physionet_challenge_all/Annormal/class2_image_FPCT_setC/')\n",
        "\n",
        "paths2=[folder_path_class1b, folder_path_class2b, folder_path_class3b, folder_path_class4b, folder_path_class5b, folder_path_class6b]\n",
        "\n",
        "ctr = 1 #append class labels\n",
        "y2 = []\n",
        "for p in paths2:\n",
        "  #print(p)\n",
        "  class_label = ctr\n",
        "  for image in os.walk(p):\n",
        "    data.append(image[2])\n",
        "    #print(image[2])\n",
        "\n",
        "  for i in range(len(data[0])):\n",
        "    y2.append(class_label)\n",
        "    str_complete = p + data[0][i]\n",
        "    #print(str_complete)\n",
        "    img = cv2.imread(str_complete)\n",
        "    img = cv2.resize(img, (128, 128))\n",
        "    x2.append(img)#Ensure all images are loaded\n",
        "  data = []\n"
      ],
      "metadata": {
        "id": "s9yO6FOIHrSR"
      },
      "execution_count": 16,
      "outputs": []
    },
    {
      "cell_type": "code",
      "source": [
        "data_x = np.asarray(x2)\n",
        "print(data_x.shape)"
      ],
      "metadata": {
        "colab": {
          "base_uri": "https://localhost:8080/"
        },
        "id": "9Nfvw0G1e5MY",
        "outputId": "33c57b07-76f6-4bba-d95c-6ce9d7b62ca4"
      },
      "execution_count": 17,
      "outputs": [
        {
          "output_type": "stream",
          "name": "stdout",
          "text": [
            "(562, 128, 128, 3)\n"
          ]
        }
      ]
    },
    {
      "cell_type": "code",
      "source": [
        "y2=np.asarray(y2)\n",
        "print(y2.shape)"
      ],
      "metadata": {
        "colab": {
          "base_uri": "https://localhost:8080/"
        },
        "id": "9EyVS1tciGFP",
        "outputId": "2cbdb8b3-2150-48a1-a356-220d9ec8f3c7"
      },
      "execution_count": 23,
      "outputs": [
        {
          "output_type": "stream",
          "name": "stdout",
          "text": [
            "(562,)\n"
          ]
        }
      ]
    },
    {
      "cell_type": "code",
      "source": [
        "x1 = list()\n",
        "data1 = list()\n",
        "z = 0\n",
        "folder_path_class1a = ('/content/drive/MyDrive/heart_sound_results_eval_new/database_physionet_challenge_all/Normal/Class1_image_FPCT_SetA/')\n",
        "folder_path_class2a = ('/content/drive/MyDrive/heart_sound_results_eval_new/database_physionet_challenge_all/Normal/class1_image_FPCT_SetB/')\n",
        "folder_path_class3a = ('/content/drive/MyDrive/heart_sound_results_eval_new/database_physionet_challenge_all/Normal/class1_image_FPCT_SetC/')\n",
        "folder_path_class4a = ('/content/drive/MyDrive/heart_sound_results_eval_new/database_physionet_challenge_all/Normal/class1_image_FPCT_SetD/')\n",
        "folder_path_class5a = ('/content/drive/MyDrive/heart_sound_results_eval_new/database_physionet_challenge_all/Normal/class1_image_FPCT_SetE/')\n",
        "folder_path_class6a = ('/content/drive/MyDrive/heart_sound_results_eval_new/database_physionet_challenge_all/Normal/class1_image_FPCT_SetF/')\n",
        "\n",
        "paths1=[folder_path_class1a, folder_path_class2a, folder_path_class3a, folder_path_class4a, folder_path_class5a, folder_path_class6a]\n",
        "\n",
        "ctrr = 0 #append class labels\n",
        "y1 = []\n",
        "for q in paths1:\n",
        "  #print(q)\n",
        "  class_label1 = ctrr\n",
        "  for image1 in os.walk(q):\n",
        "    data1.append(image1[2])\n",
        "    #print(image1[2])\n",
        "\n",
        "  for k in range(len(data1[0])):\n",
        "    y1.append(class_label1)\n",
        "    str_complete1 = q + data1[0][k]\n",
        "    #print(str_complete1)\n",
        "    imgg = cv2.imread(str_complete1)\n",
        "    imgg = cv2.resize(imgg, (128, 128))\n",
        "    x1.append(imgg)#Ensure all images are loaded\n",
        "  data1 = []"
      ],
      "metadata": {
        "id": "jB0Jl_hXgKI_"
      },
      "execution_count": 26,
      "outputs": []
    },
    {
      "cell_type": "code",
      "source": [
        "data_x1 = np.asarray(x1)\n",
        "print(data_x1.shape)"
      ],
      "metadata": {
        "colab": {
          "base_uri": "https://localhost:8080/"
        },
        "id": "FRIS4in6jf0m",
        "outputId": "b643c1da-f0d6-4a04-8e1a-60c3407cba2c"
      },
      "execution_count": 38,
      "outputs": [
        {
          "output_type": "stream",
          "name": "stdout",
          "text": [
            "(2301, 128, 128, 3)\n"
          ]
        }
      ]
    },
    {
      "cell_type": "code",
      "source": [
        "y1=np.asarray(y1)\n",
        "print(y1.shape)"
      ],
      "metadata": {
        "colab": {
          "base_uri": "https://localhost:8080/"
        },
        "id": "v6Jw1OTJjrAW",
        "outputId": "5f047251-ec8d-4b48-b9a6-16655c8ba512"
      },
      "execution_count": 30,
      "outputs": [
        {
          "output_type": "stream",
          "name": "stdout",
          "text": [
            "(2301,)\n"
          ]
        }
      ]
    },
    {
      "cell_type": "code",
      "source": [
        "data_mainx=np.concatenate((data_x, data_x1), axis=0)\n",
        "data_mainx.shape"
      ],
      "metadata": {
        "colab": {
          "base_uri": "https://localhost:8080/"
        },
        "id": "TBpr9tbCj5HN",
        "outputId": "52e39ad2-efe1-4d86-d037-54ddcef55088"
      },
      "execution_count": 39,
      "outputs": [
        {
          "output_type": "execute_result",
          "data": {
            "text/plain": [
              "(2863, 128, 128, 3)"
            ]
          },
          "metadata": {},
          "execution_count": 39
        }
      ]
    },
    {
      "cell_type": "code",
      "source": [
        "y=np.concatenate((y2, y1), axis=0)\n",
        "y.shape"
      ],
      "metadata": {
        "colab": {
          "base_uri": "https://localhost:8080/"
        },
        "id": "2e0IA5EvkDgF",
        "outputId": "a097523c-deb0-47f8-a4f8-8688247848a7"
      },
      "execution_count": 41,
      "outputs": [
        {
          "output_type": "execute_result",
          "data": {
            "text/plain": [
              "(2863,)"
            ]
          },
          "metadata": {},
          "execution_count": 41
        }
      ]
    },
    {
      "cell_type": "code",
      "source": [
        "print(data_mainx.shape)\n",
        "print(y.shape)\n",
        "np.save('/content/drive/MyDrive/heart_sound_results_eval_new/database_physionet_challenge_all/x',data_mainx)\n",
        "np.save('/content/drive/MyDrive/heart_sound_results_eval_new/database_physionet_challenge_all/y',y)"
      ],
      "metadata": {
        "colab": {
          "base_uri": "https://localhost:8080/"
        },
        "id": "kjgFxHU1FU_3",
        "outputId": "6403b27e-1b4a-48ff-9b95-3d4b5ed20c5f"
      },
      "execution_count": 42,
      "outputs": [
        {
          "output_type": "stream",
          "name": "stdout",
          "text": [
            "(2863, 128, 128, 3)\n",
            "(2863,)\n"
          ]
        }
      ]
    },
    {
      "cell_type": "code",
      "source": [
        "x = np.load('/content/drive/MyDrive/heart_sound_results_eval_new/database_physionet_challenge_all/x.npy')\n",
        "y = np.load('/content/drive/MyDrive/heart_sound_results_eval_new/database_physionet_challenge_all/y.npy')"
      ],
      "metadata": {
        "id": "BfzuDwZuG63E"
      },
      "execution_count": 43,
      "outputs": []
    },
    {
      "cell_type": "code",
      "source": [
        "np.unique(y)"
      ],
      "metadata": {
        "colab": {
          "base_uri": "https://localhost:8080/"
        },
        "id": "1C5tU8asJTKL",
        "outputId": "bfe61845-2ea2-4d3a-970a-1bfaa9fab64e"
      },
      "execution_count": 44,
      "outputs": [
        {
          "output_type": "execute_result",
          "data": {
            "text/plain": [
              "array([0, 1])"
            ]
          },
          "metadata": {},
          "execution_count": 44
        }
      ]
    },
    {
      "cell_type": "code",
      "source": [
        "x_train, x_test, y_train, y_test = train_test_split(x, y, test_size=0.2, random_state=1)\n",
        "x_train, x_val, y_train, y_val = train_test_split(x_train, y_train, test_size=1/8, random_state=1)"
      ],
      "metadata": {
        "id": "Dr8YoLywMzfI"
      },
      "execution_count": 57,
      "outputs": []
    },
    {
      "cell_type": "code",
      "source": [
        "input_node = ak.ImageInput()\n",
        "output_node = ak.Normalization()(input_node)\n",
        "output_node1 = ak.ConvBlock()(output_node)\n",
        "output_node2 = ak.ConvBlock()(output_node1)\n",
        "output_node = ak.ClassificationHead()(output_node)\n",
        "\n",
        "auto_model = ak.AutoModel(\n",
        "    inputs=input_node, outputs=output_node, overwrite=True, max_trials=1\n",
        ")"
      ],
      "metadata": {
        "id": "D36097udM0aX"
      },
      "execution_count": 58,
      "outputs": []
    },
    {
      "cell_type": "code",
      "source": [
        "print(x_train.shape)  \n",
        "print(y_train)  \n",
        "\n",
        "# Feed the AutoModel with training data.\n",
        "auto_model.fit(x_train, y_train, epochs=30)\n",
        "# Predict with the best model.\n",
        "predicted_y = auto_model.predict(x_test)"
      ],
      "metadata": {
        "id": "ZzM0Vx2cM5c_",
        "colab": {
          "base_uri": "https://localhost:8080/"
        },
        "outputId": "6685806a-502c-488d-abed-a2caf1775d22"
      },
      "execution_count": 59,
      "outputs": [
        {
          "output_type": "stream",
          "name": "stdout",
          "text": [
            "Trial 1 Complete [00h 00m 27s]\n",
            "val_loss: 0.29678526520729065\n",
            "\n",
            "Best val_loss So Far: 0.29678526520729065\n",
            "Total elapsed time: 00h 00m 27s\n",
            "INFO:tensorflow:Oracle triggered exit\n",
            "Epoch 1/30\n",
            "63/63 [==============================] - 2s 20ms/step - loss: 0.5447 - accuracy: 0.8048\n",
            "Epoch 2/30\n",
            "63/63 [==============================] - 1s 21ms/step - loss: 0.2810 - accuracy: 0.8862\n",
            "Epoch 3/30\n",
            "63/63 [==============================] - 1s 21ms/step - loss: 0.2383 - accuracy: 0.9021\n",
            "Epoch 4/30\n",
            "63/63 [==============================] - 1s 21ms/step - loss: 0.2671 - accuracy: 0.9031\n",
            "Epoch 5/30\n",
            "63/63 [==============================] - 1s 20ms/step - loss: 0.2016 - accuracy: 0.9171\n",
            "Epoch 6/30\n",
            "63/63 [==============================] - 1s 21ms/step - loss: 0.1403 - accuracy: 0.9476\n",
            "Epoch 7/30\n",
            "63/63 [==============================] - 1s 21ms/step - loss: 0.1590 - accuracy: 0.9436\n",
            "Epoch 8/30\n",
            "63/63 [==============================] - 1s 20ms/step - loss: 0.1731 - accuracy: 0.9366\n",
            "Epoch 9/30\n",
            "63/63 [==============================] - 1s 21ms/step - loss: 0.1672 - accuracy: 0.9411\n",
            "Epoch 10/30\n",
            "63/63 [==============================] - 1s 20ms/step - loss: 0.1490 - accuracy: 0.9441\n",
            "Epoch 11/30\n",
            "63/63 [==============================] - 1s 21ms/step - loss: 0.1058 - accuracy: 0.9586\n",
            "Epoch 12/30\n",
            "63/63 [==============================] - 1s 20ms/step - loss: 0.1269 - accuracy: 0.9586\n",
            "Epoch 13/30\n",
            "63/63 [==============================] - 1s 20ms/step - loss: 0.1553 - accuracy: 0.9476\n",
            "Epoch 14/30\n",
            "63/63 [==============================] - 1s 20ms/step - loss: 0.1967 - accuracy: 0.9336\n",
            "Epoch 15/30\n",
            "63/63 [==============================] - 1s 21ms/step - loss: 0.2993 - accuracy: 0.9086\n",
            "Epoch 16/30\n",
            "63/63 [==============================] - 1s 20ms/step - loss: 0.4640 - accuracy: 0.8977\n",
            "Epoch 17/30\n",
            "63/63 [==============================] - 1s 20ms/step - loss: 0.2389 - accuracy: 0.9501\n",
            "Epoch 18/30\n",
            "63/63 [==============================] - 1s 22ms/step - loss: 0.0415 - accuracy: 0.9830\n",
            "Epoch 19/30\n",
            "63/63 [==============================] - 1s 21ms/step - loss: 0.0220 - accuracy: 0.9925\n",
            "Epoch 20/30\n",
            "63/63 [==============================] - 1s 20ms/step - loss: 0.0146 - accuracy: 0.9965\n",
            "Epoch 21/30\n",
            "63/63 [==============================] - 1s 21ms/step - loss: 0.0101 - accuracy: 0.9990\n",
            "Epoch 22/30\n",
            "63/63 [==============================] - 1s 21ms/step - loss: 0.0080 - accuracy: 1.0000\n",
            "Epoch 23/30\n",
            "63/63 [==============================] - 1s 20ms/step - loss: 0.0069 - accuracy: 1.0000\n",
            "Epoch 24/30\n",
            "63/63 [==============================] - 1s 20ms/step - loss: 0.0063 - accuracy: 1.0000\n",
            "Epoch 25/30\n",
            "63/63 [==============================] - 1s 21ms/step - loss: 0.0059 - accuracy: 1.0000\n",
            "Epoch 26/30\n",
            "63/63 [==============================] - 1s 21ms/step - loss: 0.0056 - accuracy: 1.0000\n",
            "Epoch 27/30\n",
            "63/63 [==============================] - 1s 21ms/step - loss: 0.0054 - accuracy: 1.0000\n",
            "Epoch 28/30\n",
            "63/63 [==============================] - 1s 21ms/step - loss: 0.0052 - accuracy: 1.0000\n",
            "Epoch 29/30\n",
            "63/63 [==============================] - 1s 21ms/step - loss: 0.0050 - accuracy: 1.0000\n",
            "Epoch 30/30\n",
            "63/63 [==============================] - 1s 21ms/step - loss: 0.0048 - accuracy: 1.0000\n",
            "INFO:tensorflow:Assets written to: ./auto_model/best_model/assets\n",
            "18/18 [==============================] - 0s 19ms/step\n"
          ]
        }
      ]
    },
    {
      "cell_type": "code",
      "source": [
        "print(auto_model.evaluate(x_test, y_test))"
      ],
      "metadata": {
        "colab": {
          "base_uri": "https://localhost:8080/"
        },
        "id": "I2NePbvTMKna",
        "outputId": "197ac0e1-4144-48f0-c531-a0fa17dfafab"
      },
      "execution_count": 60,
      "outputs": [
        {
          "output_type": "stream",
          "name": "stdout",
          "text": [
            "18/18 [==============================] - 0s 19ms/step - loss: 0.8662 - accuracy: 0.8517\n",
            "[0.8662402033805847, 0.8516579270362854]\n"
          ]
        }
      ]
    },
    {
      "cell_type": "code",
      "source": [
        "predicted_y = auto_model.predict(x_test)\n",
        "print(predicted_y.shape)"
      ],
      "metadata": {
        "id": "T6QD6QlaM97n",
        "colab": {
          "base_uri": "https://localhost:8080/"
        },
        "outputId": "f49139bc-0c59-4e6c-cd5a-66cb06d78d9c"
      },
      "execution_count": 68,
      "outputs": [
        {
          "output_type": "stream",
          "name": "stdout",
          "text": [
            "18/18 [==============================] - 0s 19ms/step\n",
            "(573, 1)\n"
          ]
        }
      ]
    },
    {
      "cell_type": "code",
      "source": [
        "from sklearn.metrics import confusion_matrix\n",
        "cm1 = confusion_matrix(y_test, predicted_y)\n",
        "print(\"confusion matrix \\n\",cm1)"
      ],
      "metadata": {
        "id": "34i5LbLtNPFY",
        "colab": {
          "base_uri": "https://localhost:8080/"
        },
        "outputId": "df241b66-c04d-4a72-d208-f1005009718c"
      },
      "execution_count": 63,
      "outputs": [
        {
          "output_type": "stream",
          "name": "stdout",
          "text": [
            "confusion matrix \n",
            " [[407  56]\n",
            " [ 29  81]]\n"
          ]
        }
      ]
    },
    {
      "cell_type": "code",
      "source": [
        "precision = sklearn.metrics.precision_score(y_test,predicted_y,average='micro')\n",
        "print(precision)"
      ],
      "metadata": {
        "id": "mROXxxzFNPxg",
        "colab": {
          "base_uri": "https://localhost:8080/"
        },
        "outputId": "08339e2b-b4b4-4153-c20e-6bf1303d53da"
      },
      "execution_count": 64,
      "outputs": [
        {
          "output_type": "stream",
          "name": "stdout",
          "text": [
            "0.8516579406631762\n"
          ]
        }
      ]
    },
    {
      "cell_type": "code",
      "source": [
        "accuracy=np.diag(cm1).sum()/cm1.sum().sum()\n",
        "print(accuracy)"
      ],
      "metadata": {
        "id": "vBoWX00-NS03",
        "colab": {
          "base_uri": "https://localhost:8080/"
        },
        "outputId": "54a2abad-42e7-4c90-e73a-999ac5c0d02d"
      },
      "execution_count": 65,
      "outputs": [
        {
          "output_type": "stream",
          "name": "stdout",
          "text": [
            "0.8516579406631762\n"
          ]
        }
      ]
    },
    {
      "cell_type": "code",
      "source": [
        "recall = sklearn.metrics.recall_score(y_test,predicted_y,average='micro')\n",
        "print(recall)"
      ],
      "metadata": {
        "id": "p8ORzr0LNTbI",
        "colab": {
          "base_uri": "https://localhost:8080/"
        },
        "outputId": "ceb8da87-3aa0-487c-ca91-d53128e043cb"
      },
      "execution_count": 66,
      "outputs": [
        {
          "output_type": "stream",
          "name": "stdout",
          "text": [
            "0.8516579406631762\n"
          ]
        }
      ]
    },
    {
      "cell_type": "code",
      "source": [
        "K_cappa = sklearn.metrics.cohen_kappa_score(y_test,predicted_y)\n",
        "print(K_cappa)"
      ],
      "metadata": {
        "id": "Iub5qdyENVXv",
        "colab": {
          "base_uri": "https://localhost:8080/"
        },
        "outputId": "14f78efd-f8dc-4314-d6f0-cd373d8bbaa6"
      },
      "execution_count": 67,
      "outputs": [
        {
          "output_type": "stream",
          "name": "stdout",
          "text": [
            "0.5627564165866183\n"
          ]
        }
      ]
    },
    {
      "cell_type": "code",
      "source": [
        ""
      ],
      "metadata": {
        "id": "7jcpVMg8Mm_y"
      },
      "execution_count": null,
      "outputs": []
    }
  ]
}