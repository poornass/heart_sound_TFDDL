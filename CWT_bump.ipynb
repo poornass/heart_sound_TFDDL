{
  "nbformat": 4,
  "nbformat_minor": 0,
  "metadata": {
    "colab": {
      "name": "STFT_Kaiser_512.ipynb",
      "provenance": []
    },
    "kernelspec": {
      "name": "python3",
      "display_name": "Python 3"
    },
    "language_info": {
      "name": "python"
    }
  },
  "cells": [
    {
      "cell_type": "code",
      "execution_count": 1,
      "metadata": {
        "colab": {
          "base_uri": "https://localhost:8080/"
        },
        "id": "l_LQAVApTlRU",
        "outputId": "a250ac49-f914-4a53-fd43-3f16215bfec9"
      },
      "outputs": [
        {
          "output_type": "stream",
          "name": "stdout",
          "text": [
            "Collecting autokeras\n",
            "  Downloading autokeras-1.0.16.post1-py3-none-any.whl (166 kB)\n",
            "\u001b[K     |████████████████████████████████| 166 kB 7.8 MB/s \n",
            "\u001b[?25hCollecting keras-tuner<1.1,>=1.0.2\n",
            "  Downloading keras_tuner-1.0.4-py3-none-any.whl (97 kB)\n",
            "\u001b[K     |████████████████████████████████| 97 kB 6.9 MB/s \n",
            "\u001b[?25hCollecting tensorflow<2.6,>=2.3.0\n",
            "  Downloading tensorflow-2.5.2-cp37-cp37m-manylinux2010_x86_64.whl (454.4 MB)\n",
            "\u001b[K     |████████████████████████████████| 454.4 MB 21 kB/s \n",
            "\u001b[?25hRequirement already satisfied: scikit-learn in /usr/local/lib/python3.7/dist-packages (from autokeras) (1.0.2)\n",
            "Requirement already satisfied: packaging in /usr/local/lib/python3.7/dist-packages (from autokeras) (21.3)\n",
            "Requirement already satisfied: pandas in /usr/local/lib/python3.7/dist-packages (from autokeras) (1.1.5)\n",
            "Requirement already satisfied: ipython in /usr/local/lib/python3.7/dist-packages (from keras-tuner<1.1,>=1.0.2->autokeras) (5.5.0)\n",
            "Requirement already satisfied: numpy in /usr/local/lib/python3.7/dist-packages (from keras-tuner<1.1,>=1.0.2->autokeras) (1.19.5)\n",
            "Collecting kt-legacy\n",
            "  Downloading kt_legacy-1.0.4-py3-none-any.whl (9.6 kB)\n",
            "Requirement already satisfied: scipy in /usr/local/lib/python3.7/dist-packages (from keras-tuner<1.1,>=1.0.2->autokeras) (1.4.1)\n",
            "Requirement already satisfied: requests in /usr/local/lib/python3.7/dist-packages (from keras-tuner<1.1,>=1.0.2->autokeras) (2.23.0)\n",
            "Requirement already satisfied: tensorboard in /usr/local/lib/python3.7/dist-packages (from keras-tuner<1.1,>=1.0.2->autokeras) (2.7.0)\n",
            "Requirement already satisfied: google-pasta~=0.2 in /usr/local/lib/python3.7/dist-packages (from tensorflow<2.6,>=2.3.0->autokeras) (0.2.0)\n",
            "Collecting grpcio~=1.34.0\n",
            "  Downloading grpcio-1.34.1-cp37-cp37m-manylinux2014_x86_64.whl (4.0 MB)\n",
            "\u001b[K     |████████████████████████████████| 4.0 MB 63.4 MB/s \n",
            "\u001b[?25hRequirement already satisfied: absl-py~=0.10 in /usr/local/lib/python3.7/dist-packages (from tensorflow<2.6,>=2.3.0->autokeras) (0.12.0)\n",
            "Collecting keras-nightly~=2.5.0.dev\n",
            "  Downloading keras_nightly-2.5.0.dev2021032900-py2.py3-none-any.whl (1.2 MB)\n",
            "\u001b[K     |████████████████████████████████| 1.2 MB 47.8 MB/s \n",
            "\u001b[?25hRequirement already satisfied: opt-einsum~=3.3.0 in /usr/local/lib/python3.7/dist-packages (from tensorflow<2.6,>=2.3.0->autokeras) (3.3.0)\n",
            "Requirement already satisfied: protobuf>=3.9.2 in /usr/local/lib/python3.7/dist-packages (from tensorflow<2.6,>=2.3.0->autokeras) (3.17.3)\n",
            "Collecting typing-extensions~=3.7.4\n",
            "  Downloading typing_extensions-3.7.4.3-py3-none-any.whl (22 kB)\n",
            "Requirement already satisfied: gast==0.4.0 in /usr/local/lib/python3.7/dist-packages (from tensorflow<2.6,>=2.3.0->autokeras) (0.4.0)\n",
            "Requirement already satisfied: h5py~=3.1.0 in /usr/local/lib/python3.7/dist-packages (from tensorflow<2.6,>=2.3.0->autokeras) (3.1.0)\n",
            "Collecting tensorflow-estimator<2.6.0,>=2.5.0\n",
            "  Downloading tensorflow_estimator-2.5.0-py2.py3-none-any.whl (462 kB)\n",
            "\u001b[K     |████████████████████████████████| 462 kB 58.7 MB/s \n",
            "\u001b[?25hRequirement already satisfied: termcolor~=1.1.0 in /usr/local/lib/python3.7/dist-packages (from tensorflow<2.6,>=2.3.0->autokeras) (1.1.0)\n",
            "Collecting flatbuffers~=1.12.0\n",
            "  Downloading flatbuffers-1.12-py2.py3-none-any.whl (15 kB)\n",
            "Requirement already satisfied: keras-preprocessing~=1.1.2 in /usr/local/lib/python3.7/dist-packages (from tensorflow<2.6,>=2.3.0->autokeras) (1.1.2)\n",
            "Requirement already satisfied: wheel~=0.35 in /usr/local/lib/python3.7/dist-packages (from tensorflow<2.6,>=2.3.0->autokeras) (0.37.1)\n",
            "Collecting wrapt~=1.12.1\n",
            "  Downloading wrapt-1.12.1.tar.gz (27 kB)\n",
            "Requirement already satisfied: astunparse~=1.6.3 in /usr/local/lib/python3.7/dist-packages (from tensorflow<2.6,>=2.3.0->autokeras) (1.6.3)\n",
            "Requirement already satisfied: six~=1.15.0 in /usr/local/lib/python3.7/dist-packages (from tensorflow<2.6,>=2.3.0->autokeras) (1.15.0)\n",
            "Requirement already satisfied: cached-property in /usr/local/lib/python3.7/dist-packages (from h5py~=3.1.0->tensorflow<2.6,>=2.3.0->autokeras) (1.5.2)\n",
            "Requirement already satisfied: google-auth-oauthlib<0.5,>=0.4.1 in /usr/local/lib/python3.7/dist-packages (from tensorboard->keras-tuner<1.1,>=1.0.2->autokeras) (0.4.6)\n",
            "Requirement already satisfied: google-auth<3,>=1.6.3 in /usr/local/lib/python3.7/dist-packages (from tensorboard->keras-tuner<1.1,>=1.0.2->autokeras) (1.35.0)\n",
            "Requirement already satisfied: werkzeug>=0.11.15 in /usr/local/lib/python3.7/dist-packages (from tensorboard->keras-tuner<1.1,>=1.0.2->autokeras) (1.0.1)\n",
            "Requirement already satisfied: tensorboard-data-server<0.7.0,>=0.6.0 in /usr/local/lib/python3.7/dist-packages (from tensorboard->keras-tuner<1.1,>=1.0.2->autokeras) (0.6.1)\n",
            "Requirement already satisfied: tensorboard-plugin-wit>=1.6.0 in /usr/local/lib/python3.7/dist-packages (from tensorboard->keras-tuner<1.1,>=1.0.2->autokeras) (1.8.1)\n",
            "Requirement already satisfied: markdown>=2.6.8 in /usr/local/lib/python3.7/dist-packages (from tensorboard->keras-tuner<1.1,>=1.0.2->autokeras) (3.3.6)\n",
            "Requirement already satisfied: setuptools>=41.0.0 in /usr/local/lib/python3.7/dist-packages (from tensorboard->keras-tuner<1.1,>=1.0.2->autokeras) (57.4.0)\n",
            "Requirement already satisfied: pyasn1-modules>=0.2.1 in /usr/local/lib/python3.7/dist-packages (from google-auth<3,>=1.6.3->tensorboard->keras-tuner<1.1,>=1.0.2->autokeras) (0.2.8)\n",
            "Requirement already satisfied: rsa<5,>=3.1.4 in /usr/local/lib/python3.7/dist-packages (from google-auth<3,>=1.6.3->tensorboard->keras-tuner<1.1,>=1.0.2->autokeras) (4.8)\n",
            "Requirement already satisfied: cachetools<5.0,>=2.0.0 in /usr/local/lib/python3.7/dist-packages (from google-auth<3,>=1.6.3->tensorboard->keras-tuner<1.1,>=1.0.2->autokeras) (4.2.4)\n",
            "Requirement already satisfied: requests-oauthlib>=0.7.0 in /usr/local/lib/python3.7/dist-packages (from google-auth-oauthlib<0.5,>=0.4.1->tensorboard->keras-tuner<1.1,>=1.0.2->autokeras) (1.3.0)\n",
            "Requirement already satisfied: importlib-metadata>=4.4 in /usr/local/lib/python3.7/dist-packages (from markdown>=2.6.8->tensorboard->keras-tuner<1.1,>=1.0.2->autokeras) (4.10.0)\n",
            "Requirement already satisfied: zipp>=0.5 in /usr/local/lib/python3.7/dist-packages (from importlib-metadata>=4.4->markdown>=2.6.8->tensorboard->keras-tuner<1.1,>=1.0.2->autokeras) (3.7.0)\n",
            "Requirement already satisfied: pyasn1<0.5.0,>=0.4.6 in /usr/local/lib/python3.7/dist-packages (from pyasn1-modules>=0.2.1->google-auth<3,>=1.6.3->tensorboard->keras-tuner<1.1,>=1.0.2->autokeras) (0.4.8)\n",
            "Requirement already satisfied: chardet<4,>=3.0.2 in /usr/local/lib/python3.7/dist-packages (from requests->keras-tuner<1.1,>=1.0.2->autokeras) (3.0.4)\n",
            "Requirement already satisfied: idna<3,>=2.5 in /usr/local/lib/python3.7/dist-packages (from requests->keras-tuner<1.1,>=1.0.2->autokeras) (2.10)\n",
            "Requirement already satisfied: urllib3!=1.25.0,!=1.25.1,<1.26,>=1.21.1 in /usr/local/lib/python3.7/dist-packages (from requests->keras-tuner<1.1,>=1.0.2->autokeras) (1.24.3)\n",
            "Requirement already satisfied: certifi>=2017.4.17 in /usr/local/lib/python3.7/dist-packages (from requests->keras-tuner<1.1,>=1.0.2->autokeras) (2021.10.8)\n",
            "Requirement already satisfied: oauthlib>=3.0.0 in /usr/local/lib/python3.7/dist-packages (from requests-oauthlib>=0.7.0->google-auth-oauthlib<0.5,>=0.4.1->tensorboard->keras-tuner<1.1,>=1.0.2->autokeras) (3.1.1)\n",
            "Requirement already satisfied: decorator in /usr/local/lib/python3.7/dist-packages (from ipython->keras-tuner<1.1,>=1.0.2->autokeras) (4.4.2)\n",
            "Requirement already satisfied: traitlets>=4.2 in /usr/local/lib/python3.7/dist-packages (from ipython->keras-tuner<1.1,>=1.0.2->autokeras) (5.1.1)\n",
            "Requirement already satisfied: pygments in /usr/local/lib/python3.7/dist-packages (from ipython->keras-tuner<1.1,>=1.0.2->autokeras) (2.6.1)\n",
            "Requirement already satisfied: pickleshare in /usr/local/lib/python3.7/dist-packages (from ipython->keras-tuner<1.1,>=1.0.2->autokeras) (0.7.5)\n",
            "Requirement already satisfied: simplegeneric>0.8 in /usr/local/lib/python3.7/dist-packages (from ipython->keras-tuner<1.1,>=1.0.2->autokeras) (0.8.1)\n",
            "Requirement already satisfied: prompt-toolkit<2.0.0,>=1.0.4 in /usr/local/lib/python3.7/dist-packages (from ipython->keras-tuner<1.1,>=1.0.2->autokeras) (1.0.18)\n",
            "Requirement already satisfied: pexpect in /usr/local/lib/python3.7/dist-packages (from ipython->keras-tuner<1.1,>=1.0.2->autokeras) (4.8.0)\n",
            "Requirement already satisfied: wcwidth in /usr/local/lib/python3.7/dist-packages (from prompt-toolkit<2.0.0,>=1.0.4->ipython->keras-tuner<1.1,>=1.0.2->autokeras) (0.2.5)\n",
            "Requirement already satisfied: pyparsing!=3.0.5,>=2.0.2 in /usr/local/lib/python3.7/dist-packages (from packaging->autokeras) (3.0.6)\n",
            "Requirement already satisfied: pytz>=2017.2 in /usr/local/lib/python3.7/dist-packages (from pandas->autokeras) (2018.9)\n",
            "Requirement already satisfied: python-dateutil>=2.7.3 in /usr/local/lib/python3.7/dist-packages (from pandas->autokeras) (2.8.2)\n",
            "Requirement already satisfied: ptyprocess>=0.5 in /usr/local/lib/python3.7/dist-packages (from pexpect->ipython->keras-tuner<1.1,>=1.0.2->autokeras) (0.7.0)\n",
            "Requirement already satisfied: joblib>=0.11 in /usr/local/lib/python3.7/dist-packages (from scikit-learn->autokeras) (1.1.0)\n",
            "Requirement already satisfied: threadpoolctl>=2.0.0 in /usr/local/lib/python3.7/dist-packages (from scikit-learn->autokeras) (3.0.0)\n",
            "Building wheels for collected packages: wrapt\n",
            "  Building wheel for wrapt (setup.py) ... \u001b[?25l\u001b[?25hdone\n",
            "  Created wheel for wrapt: filename=wrapt-1.12.1-cp37-cp37m-linux_x86_64.whl size=68722 sha256=d5ddd7e132d968781b2d322100bc4913351b9638daed47779873fb675a133d36\n",
            "  Stored in directory: /root/.cache/pip/wheels/62/76/4c/aa25851149f3f6d9785f6c869387ad82b3fd37582fa8147ac6\n",
            "Successfully built wrapt\n",
            "Installing collected packages: typing-extensions, grpcio, wrapt, tensorflow-estimator, kt-legacy, keras-nightly, flatbuffers, tensorflow, keras-tuner, autokeras\n",
            "  Attempting uninstall: typing-extensions\n",
            "    Found existing installation: typing-extensions 3.10.0.2\n",
            "    Uninstalling typing-extensions-3.10.0.2:\n",
            "      Successfully uninstalled typing-extensions-3.10.0.2\n",
            "  Attempting uninstall: grpcio\n",
            "    Found existing installation: grpcio 1.43.0\n",
            "    Uninstalling grpcio-1.43.0:\n",
            "      Successfully uninstalled grpcio-1.43.0\n",
            "  Attempting uninstall: wrapt\n",
            "    Found existing installation: wrapt 1.13.3\n",
            "    Uninstalling wrapt-1.13.3:\n",
            "      Successfully uninstalled wrapt-1.13.3\n",
            "  Attempting uninstall: tensorflow-estimator\n",
            "    Found existing installation: tensorflow-estimator 2.7.0\n",
            "    Uninstalling tensorflow-estimator-2.7.0:\n",
            "      Successfully uninstalled tensorflow-estimator-2.7.0\n",
            "  Attempting uninstall: flatbuffers\n",
            "    Found existing installation: flatbuffers 2.0\n",
            "    Uninstalling flatbuffers-2.0:\n",
            "      Successfully uninstalled flatbuffers-2.0\n",
            "  Attempting uninstall: tensorflow\n",
            "    Found existing installation: tensorflow 2.7.0\n",
            "    Uninstalling tensorflow-2.7.0:\n",
            "      Successfully uninstalled tensorflow-2.7.0\n",
            "Successfully installed autokeras-1.0.16.post1 flatbuffers-1.12 grpcio-1.34.1 keras-nightly-2.5.0.dev2021032900 keras-tuner-1.0.4 kt-legacy-1.0.4 tensorflow-2.5.2 tensorflow-estimator-2.5.0 typing-extensions-3.7.4.3 wrapt-1.12.1\n"
          ]
        }
      ],
      "source": [
        "!pip3 install autokeras"
      ]
    },
    {
      "cell_type": "code",
      "source": [
        "from google.colab import drive\n",
        "drive.mount('/content/drive')"
      ],
      "metadata": {
        "colab": {
          "base_uri": "https://localhost:8080/"
        },
        "id": "s2yNf9LTT8PT",
        "outputId": "4ddd36b1-fbdc-420f-fded-d6fed71f59d9"
      },
      "execution_count": 2,
      "outputs": [
        {
          "output_type": "stream",
          "name": "stdout",
          "text": [
            "Mounted at /content/drive\n"
          ]
        }
      ]
    },
    {
      "cell_type": "code",
      "source": [
        "from numpy import mean\n",
        "from numpy import std\n",
        "import numpy as np\n",
        "from matplotlib import pyplot\n",
        "from sklearn.model_selection import KFold\n",
        "from tensorflow.keras.datasets import mnist\n",
        "from tensorflow.keras.utils import to_categorical\n",
        "from tensorflow.keras.models import Sequential\n",
        "from tensorflow.keras.layers import Conv2D\n",
        "from tensorflow.keras.layers import MaxPooling2D\n",
        "from tensorflow.keras.layers import Dense\n",
        "from tensorflow.keras.layers import Flatten\n",
        "from tensorflow.keras.optimizers import SGD\n",
        "from tensorflow.keras.layers import Dropout\n",
        "from tensorflow.keras.layers import BatchNormalization\n",
        "import tensorflow as tf\n",
        "from tensorflow.keras.models import Model\n",
        "from tensorflow.keras import backend as K\n",
        "import matplotlib.pyplot as plt\n",
        "import sklearn\n",
        "from sklearn.metrics import confusion_matrix\n",
        "from scipy.io import loadmat\n",
        "import numpy as np\n",
        "import PIL\n",
        "import cv2\n",
        "import os\n",
        "from sklearn.model_selection import train_test_split\n",
        "import autokeras as ak"
      ],
      "metadata": {
        "id": "8Ov1oi_qUqvd"
      },
      "execution_count": 3,
      "outputs": []
    },
    {
      "cell_type": "code",
      "source": [
        "x = list()\n",
        "data = list()\n",
        "z = 0\n",
        "##Class-1 images##\n",
        "folder_path_class1 = ('/content/drive/MyDrive/heart_sound_results_eval_new/CWT_bump/AS/')\n",
        "folder_path_class2 = ('/content/drive/MyDrive/heart_sound_results_eval_new/CWT_bump/MR/')\n",
        "folder_path_class3 = ('/content/drive/MyDrive/heart_sound_results_eval_new/CWT_bump/MS/')\n",
        "folder_path_class4 = ('/content/drive/MyDrive/heart_sound_results_eval_new/CWT_bump/MVP/')\n",
        "folder_path_class5 = ('/content/drive/MyDrive/heart_sound_results_eval_new/CWT_bump/normal/')\n",
        "#folder_path_class1b = ('/content/drive/MyDrive/PCG_signal_time_frequency_image/Physionet_complete/scheme1/normal_TDPCT_SetA/')\n",
        "#folder_path_class2b = ('/content/drive/MyDrive/PCG_signal_time_frequency_image/Physionet_complete/scheme1/normal_TDPCT_SetB/')\n",
        "#folder_path_class3b = ('/content/drive/MyDrive/PCG_signal_time_frequency_image/Physionet_complete/scheme1/normal_TDPCT_SetC/')\n",
        "#folder_path_class4b = ('/content/drive/MyDrive/PCG_signal_time_frequency_image/Physionet_complete/scheme1/normal_TDPCT_SetD/')\n",
        "#folder_path_class5b = ('/content/drive/MyDrive/PCG_signal_time_frequency_image/Physionet_complete/scheme1/normal_TDPCT_SetF/')\n",
        "\n",
        "class_types = {'MVP':0,'MR':1,'MS':2,'normal':3,'AS':4}\n",
        "\n",
        "paths = [folder_path_class1,folder_path_class2,folder_path_class3,folder_path_class4,folder_path_class5]\n",
        "#         folder_path_class1b,folder_path_class2b,folder_path_class3b,folder_path_class4b,folder_path_class5b,]\n",
        "for p in paths:\n",
        "  #print(p)\n",
        "  for image in os.walk(p):\n",
        "    data.append(image[2])\n",
        "    #print(image[2])\n",
        "\n",
        "  for i in range(len(data[0])):\n",
        "    str_complete = p + data[0][i]\n",
        "    #print(str_complete)\n",
        "    img = cv2.imread(str_complete)\n",
        "    img = cv2.resize(img, (128, 128))\n",
        "    x.append(img)#Ensure all images are loaded\n",
        "  data = []\n"
      ],
      "metadata": {
        "id": "eZMCeDJRUtSa"
      },
      "execution_count": 4,
      "outputs": []
    },
    {
      "cell_type": "code",
      "source": [
        "y = np.ones([1000])\n",
        "y[:200] =4\n",
        "y[200:400]=1\n",
        "y[400:600]=2\n",
        "y[600:800]=0\n",
        "y[800:1000]=3"
      ],
      "metadata": {
        "id": "ulxvlLwlVd47"
      },
      "execution_count": 5,
      "outputs": []
    },
    {
      "cell_type": "code",
      "source": [
        "data_x = np.asarray(x)\n",
        "data_x.shape"
      ],
      "metadata": {
        "colab": {
          "base_uri": "https://localhost:8080/"
        },
        "id": "_9gbea_aVhpD",
        "outputId": "2771366c-3e37-4e1f-c666-52797fd1d555"
      },
      "execution_count": 6,
      "outputs": [
        {
          "output_type": "execute_result",
          "data": {
            "text/plain": [
              "(1000, 128, 128, 3)"
            ]
          },
          "metadata": {},
          "execution_count": 6
        }
      ]
    },
    {
      "cell_type": "code",
      "source": [
        "y=y"
      ],
      "metadata": {
        "id": "hXl7ajG5ViXy"
      },
      "execution_count": 7,
      "outputs": []
    },
    {
      "cell_type": "code",
      "source": [
        "x_train, x_test, y_train, y_test = train_test_split(data_x, y, test_size=0.1, random_state=1)\n",
        "x_train, x_val, y_train, y_val = train_test_split(x_train, y_train, test_size=1/8, random_state=1)\n",
        "\n",
        "y_tr_one_hot  = np.zeros((np.array(y_train).shape[0],5))\n",
        "for i in range(np.array(y_train).shape[0]):\n",
        "  label = y_train[i]\n",
        "  y_tr_one_hot[i][int(label)] = 1\n",
        "\n",
        "y_te_one_hot  = np.zeros((np.array(y_test).shape[0],5))\n",
        "for i in range(np.array(y_test).shape[0]):\n",
        "  label = y_test[i]\n",
        "  y_te_one_hot[i][int(label)] = 1\n",
        "\n",
        "y_val_one_hot  = np.zeros((np.array(y_val).shape[0],5))\n",
        "for i in range(np.array(y_val).shape[0]):\n",
        "  label = y_val[i]\n",
        "  y_val_one_hot[i][int(label)] = 1\n"
      ],
      "metadata": {
        "id": "4esJloRSWMG6"
      },
      "execution_count": 58,
      "outputs": []
    },
    {
      "cell_type": "code",
      "source": [
        "input_node = ak.ImageInput()\n",
        "output_node = ak.Normalization()(input_node)\n",
        "output_node1 = ak.ConvBlock()(output_node)\n",
        "output_node2 = ak.ConvBlock(max_pooling=True)(output_node1)\n",
        "output_node = ak.ClassificationHead()(output_node)\n",
        "\n",
        "auto_model = ak.AutoModel(\n",
        "    inputs=input_node, outputs=output_node, overwrite=True, max_trials=1\n",
        ")"
      ],
      "metadata": {
        "id": "xMDHr5d0WQSq"
      },
      "execution_count": 59,
      "outputs": []
    },
    {
      "cell_type": "code",
      "source": [
        "print(x_train.shape)\n",
        "print(y_tr_one_hot.shape)\n",
        "\n",
        "# Feed the AutoModel with training data.\n",
        "auto_model.fit(x_train, y_tr_one_hot, epochs=10)\n",
        "# Predict with the best model.\n",
        "predicted_y = auto_model.predict(x_test)"
      ],
      "metadata": {
        "colab": {
          "base_uri": "https://localhost:8080/"
        },
        "id": "Ffss-rfDWTwR",
        "outputId": "586a2dd0-1b25-4d97-b6ae-8c730c460540"
      },
      "execution_count": 60,
      "outputs": [
        {
          "output_type": "stream",
          "name": "stdout",
          "text": [
            "Trial 1 Complete [00h 00m 12s]\n",
            "val_loss: 2.2213540077209473\n",
            "\n",
            "Best val_loss So Far: 2.2213540077209473\n",
            "Total elapsed time: 00h 00m 12s\n",
            "INFO:tensorflow:Oracle triggered exit\n",
            "Epoch 1/10\n",
            "25/25 [==============================] - 1s 29ms/step - loss: 239.0161 - accuracy: 0.3227\n",
            "Epoch 2/10\n",
            "25/25 [==============================] - 1s 30ms/step - loss: 23.3537 - accuracy: 0.6950\n",
            "Epoch 3/10\n",
            "25/25 [==============================] - 1s 29ms/step - loss: 6.7718 - accuracy: 0.8767\n",
            "Epoch 4/10\n",
            "25/25 [==============================] - 1s 29ms/step - loss: 1.1590 - accuracy: 0.9568\n",
            "Epoch 5/10\n",
            "25/25 [==============================] - 1s 29ms/step - loss: 1.9806 - accuracy: 0.9441\n",
            "Epoch 6/10\n",
            "25/25 [==============================] - 1s 29ms/step - loss: 0.9475 - accuracy: 0.9695\n",
            "Epoch 7/10\n",
            "25/25 [==============================] - 1s 29ms/step - loss: 1.2316 - accuracy: 0.9504\n",
            "Epoch 8/10\n",
            "25/25 [==============================] - 1s 30ms/step - loss: 1.2063 - accuracy: 0.9593\n",
            "Epoch 9/10\n",
            "25/25 [==============================] - 1s 30ms/step - loss: 0.9575 - accuracy: 0.9568\n",
            "Epoch 10/10\n",
            "25/25 [==============================] - 1s 30ms/step - loss: 1.3866 - accuracy: 0.9593\n",
            "INFO:tensorflow:Assets written to: ./auto_model/best_model/assets\n",
            "4/4 [==============================] - 0s 17ms/step\n"
          ]
        }
      ]
    },
    {
      "cell_type": "code",
      "source": [
        "predicted_y = auto_model.predict(x_test)"
      ],
      "metadata": {
        "colab": {
          "base_uri": "https://localhost:8080/"
        },
        "id": "DnOZvllNX74r",
        "outputId": "2dbbdb9b-8055-4646-f172-bc7c2e285884"
      },
      "execution_count": 61,
      "outputs": [
        {
          "output_type": "stream",
          "name": "stdout",
          "text": [
            "4/4 [==============================] - 0s 22ms/step\n"
          ]
        }
      ]
    },
    {
      "cell_type": "code",
      "source": [
        "y_pred = np.argmax(predicted_y, axis=1)"
      ],
      "metadata": {
        "id": "MvTmiKu_X-oC"
      },
      "execution_count": 62,
      "outputs": []
    },
    {
      "cell_type": "code",
      "source": [
        "from sklearn.metrics import confusion_matrix\n",
        "cm1 = confusion_matrix(y_test, y_pred)\n",
        "print(\"confusion matrix \\n\",cm1)"
      ],
      "metadata": {
        "colab": {
          "base_uri": "https://localhost:8080/"
        },
        "id": "db7zJQDnYBkq",
        "outputId": "879cdf07-4c48-48de-95d8-8a390f167c52"
      },
      "execution_count": 63,
      "outputs": [
        {
          "output_type": "stream",
          "name": "stdout",
          "text": [
            "confusion matrix \n",
            " [[21  0  0  0  0]\n",
            " [ 0 15  0  0  0]\n",
            " [ 0  2 24  0  0]\n",
            " [ 0  1  0 17  0]\n",
            " [ 0  0  0  0 20]]\n"
          ]
        }
      ]
    },
    {
      "cell_type": "code",
      "source": [
        "precision = sklearn.metrics.precision_score(y_test,y_pred,average='micro')\n",
        "print(precision)"
      ],
      "metadata": {
        "colab": {
          "base_uri": "https://localhost:8080/"
        },
        "id": "S3vRdsBaYEQh",
        "outputId": "fb569d5c-5b26-4e40-859c-e13a92990af5"
      },
      "execution_count": 64,
      "outputs": [
        {
          "output_type": "stream",
          "name": "stdout",
          "text": [
            "0.97\n"
          ]
        }
      ]
    },
    {
      "cell_type": "code",
      "source": [
        "accuracy=np.diag(cm1).sum()/cm1.sum().sum()\n",
        "print(accuracy)"
      ],
      "metadata": {
        "colab": {
          "base_uri": "https://localhost:8080/"
        },
        "id": "oK7XVGSaYG0Z",
        "outputId": "9e5971bf-26d4-4dc2-b1f2-581e4fa7f5b4"
      },
      "execution_count": 65,
      "outputs": [
        {
          "output_type": "stream",
          "name": "stdout",
          "text": [
            "0.97\n"
          ]
        }
      ]
    },
    {
      "cell_type": "code",
      "source": [
        "recall = sklearn.metrics.recall_score(y_test,y_pred,average='micro')\n",
        "print(recall)"
      ],
      "metadata": {
        "colab": {
          "base_uri": "https://localhost:8080/"
        },
        "id": "QCNStyhIYJMB",
        "outputId": "9fc8741a-4c4c-42a0-fc5c-fe089a3a86ad"
      },
      "execution_count": 66,
      "outputs": [
        {
          "output_type": "stream",
          "name": "stdout",
          "text": [
            "0.97\n"
          ]
        }
      ]
    },
    {
      "cell_type": "code",
      "source": [
        "K_cappa = sklearn.metrics.cohen_kappa_score(y_test,y_pred)\n",
        "print(K_cappa)"
      ],
      "metadata": {
        "colab": {
          "base_uri": "https://localhost:8080/"
        },
        "id": "yaH05n2aYPSp",
        "outputId": "6c8de196-42f8-400e-f6f2-dff414eaf6a9"
      },
      "execution_count": 67,
      "outputs": [
        {
          "output_type": "stream",
          "name": "stdout",
          "text": [
            "0.9623068224651338\n"
          ]
        }
      ]
    }
  ]
}