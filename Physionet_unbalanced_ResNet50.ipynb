{
  "nbformat": 4,
  "nbformat_minor": 0,
  "metadata": {
    "colab": {
      "name": "Physionet_unbalanced_ResNet50.ipynb",
      "provenance": [],
      "collapsed_sections": []
    },
    "kernelspec": {
      "name": "python3",
      "display_name": "Python 3"
    },
    "language_info": {
      "name": "python"
    }
  },
  "cells": [
    {
      "cell_type": "code",
      "execution_count": 2,
      "metadata": {
        "colab": {
          "base_uri": "https://localhost:8080/"
        },
        "id": "ZNK89nMnriQF",
        "outputId": "86df0ed3-b133-4cea-eef8-ed23ba1e6cf0"
      },
      "outputs": [
        {
          "output_type": "stream",
          "name": "stdout",
          "text": [
            "Drive already mounted at /content/drive; to attempt to forcibly remount, call drive.mount(\"/content/drive\", force_remount=True).\n"
          ]
        }
      ],
      "source": [
        "from google.colab import drive\n",
        "drive.mount('/content/drive')"
      ]
    },
    {
      "cell_type": "code",
      "source": [
        "from numpy import mean\n",
        "from numpy import std\n",
        "import numpy as np\n",
        "from matplotlib import pyplot\n",
        "from sklearn.model_selection import KFold\n",
        "from tensorflow.keras.datasets import mnist\n",
        "from tensorflow.keras.utils import to_categorical\n",
        "from tensorflow.keras.models import Sequential\n",
        "from tensorflow.keras.layers import Conv2D\n",
        "from tensorflow.keras.layers import MaxPooling2D\n",
        "from tensorflow.keras.layers import Dense\n",
        "from tensorflow.keras.layers import Flatten\n",
        "from tensorflow.keras.optimizers import SGD\n",
        "from tensorflow.keras.layers import Dropout\n",
        "from tensorflow.keras.layers import BatchNormalization\n",
        "import tensorflow as tf\n",
        "from tensorflow.keras.models import Model\n",
        "from tensorflow.keras import backend as K\n",
        "import matplotlib.pyplot as plt\n",
        "import sklearn\n",
        "from sklearn.metrics import confusion_matrix\n",
        "from scipy.io import loadmat\n",
        "import numpy as np\n",
        "import PIL\n",
        "import cv2\n",
        "import os\n",
        "from sklearn.model_selection import train_test_split"
      ],
      "metadata": {
        "id": "JzJ6dacUr7Ki"
      },
      "execution_count": 3,
      "outputs": []
    },
    {
      "cell_type": "code",
      "source": [
        "x2 = list()\n",
        "data = list()\n",
        "z = 0\n",
        "folder_path_class1b = ('/content/drive/MyDrive/heart_sound_results_eval_new/database_physionet_challenge_all/Annormal/Class2_Image_FPCT_SetA/')\n",
        "folder_path_class2b = ('/content/drive/MyDrive/heart_sound_results_eval_new/database_physionet_challenge_all/Annormal/Class2_Image_FPCT_SetE/')\n",
        "folder_path_class3b = ('/content/drive/MyDrive/heart_sound_results_eval_new/database_physionet_challenge_all/Annormal/class2_image_FPCT_SetB/')\n",
        "folder_path_class4b = ('/content/drive/MyDrive/heart_sound_results_eval_new/database_physionet_challenge_all/Annormal/class2_image_FPCT_SetD/')\n",
        "folder_path_class5b = ('/content/drive/MyDrive/heart_sound_results_eval_new/database_physionet_challenge_all/Annormal/class2_image_FPCT_SetF/')\n",
        "folder_path_class6b = ('/content/drive/MyDrive/heart_sound_results_eval_new/database_physionet_challenge_all/Annormal/class2_image_FPCT_setC/')\n",
        "\n",
        "paths2=[folder_path_class1b, folder_path_class2b, folder_path_class3b, folder_path_class4b, folder_path_class5b, folder_path_class6b]\n",
        "\n",
        "ctr = 1 #append class labels\n",
        "y2 = []\n",
        "for p in paths2:\n",
        "  #print(p)\n",
        "  class_label = ctr\n",
        "  for image in os.walk(p):\n",
        "    data.append(image[2])\n",
        "    #print(image[2])\n",
        "\n",
        "  for i in range(len(data[0])):\n",
        "    y2.append(class_label)\n",
        "    str_complete = p + data[0][i]\n",
        "    #print(str_complete)\n",
        "    img = cv2.imread(str_complete)\n",
        "    img = cv2.resize(img, (224, 224))\n",
        "    x2.append(img)#Ensure all images are loaded\n",
        "  data = []\n"
      ],
      "metadata": {
        "id": "sghvlUeZtRzh"
      },
      "execution_count": null,
      "outputs": []
    },
    {
      "cell_type": "code",
      "source": [
        "data_x = np.asarray(x2)\n",
        "print(data_x.shape)"
      ],
      "metadata": {
        "colab": {
          "base_uri": "https://localhost:8080/"
        },
        "id": "6wVVL_BFtaWH",
        "outputId": "39472b3c-1ce4-4953-da4e-8967013314c9"
      },
      "execution_count": null,
      "outputs": [
        {
          "output_type": "stream",
          "name": "stdout",
          "text": [
            "(562, 224, 224, 3)\n"
          ]
        }
      ]
    },
    {
      "cell_type": "code",
      "source": [
        "y2=np.asarray(y2)\n",
        "print(y2.shape)"
      ],
      "metadata": {
        "colab": {
          "base_uri": "https://localhost:8080/"
        },
        "id": "5FmT5ZEPtcUf",
        "outputId": "4c20e477-2660-4aba-df5b-a98d32301128"
      },
      "execution_count": null,
      "outputs": [
        {
          "output_type": "stream",
          "name": "stdout",
          "text": [
            "(562,)\n"
          ]
        }
      ]
    },
    {
      "cell_type": "code",
      "source": [
        "x1 = list()\n",
        "data1 = list()\n",
        "z = 0\n",
        "folder_path_class1a = ('/content/drive/MyDrive/heart_sound_results_eval_new/database_physionet_challenge_all/Normal/Class1_image_FPCT_SetA/')\n",
        "folder_path_class2a = ('/content/drive/MyDrive/heart_sound_results_eval_new/database_physionet_challenge_all/Normal/class1_image_FPCT_SetB/')\n",
        "folder_path_class3a = ('/content/drive/MyDrive/heart_sound_results_eval_new/database_physionet_challenge_all/Normal/class1_image_FPCT_SetC/')\n",
        "folder_path_class4a = ('/content/drive/MyDrive/heart_sound_results_eval_new/database_physionet_challenge_all/Normal/class1_image_FPCT_SetD/')\n",
        "folder_path_class5a = ('/content/drive/MyDrive/heart_sound_results_eval_new/database_physionet_challenge_all/Normal/class1_image_FPCT_SetE/')\n",
        "folder_path_class6a = ('/content/drive/MyDrive/heart_sound_results_eval_new/database_physionet_challenge_all/Normal/class1_image_FPCT_SetF/')\n",
        "\n",
        "paths1=[folder_path_class1a, folder_path_class2a, folder_path_class3a, folder_path_class4a, folder_path_class5a, folder_path_class6a]\n",
        "\n",
        "ctrr = 0 #append class labels\n",
        "y1 = []\n",
        "for q in paths1:\n",
        "  #print(q)\n",
        "  class_label1 = ctrr\n",
        "  for image1 in os.walk(q):\n",
        "    data1.append(image1[2])\n",
        "    #print(image1[2])\n",
        "\n",
        "  for k in range(len(data1[0])):\n",
        "    y1.append(class_label1)\n",
        "    str_complete1 = q + data1[0][k]\n",
        "    #print(str_complete1)\n",
        "    imgg = cv2.imread(str_complete1)\n",
        "    imgg = cv2.resize(imgg, (224, 224))\n",
        "    x1.append(imgg)#Ensure all images are loaded\n",
        "  data1 = []"
      ],
      "metadata": {
        "id": "A6v_K_HltdOv"
      },
      "execution_count": null,
      "outputs": []
    },
    {
      "cell_type": "code",
      "source": [
        "data_x1 = np.asarray(x1)\n",
        "print(data_x1.shape)"
      ],
      "metadata": {
        "colab": {
          "base_uri": "https://localhost:8080/"
        },
        "id": "nnXw0xXHtj9_",
        "outputId": "c06c537f-84d3-4fc4-8b6e-c9e381c6bb0c"
      },
      "execution_count": null,
      "outputs": [
        {
          "output_type": "stream",
          "name": "stdout",
          "text": [
            "(2301, 224, 224, 3)\n"
          ]
        }
      ]
    },
    {
      "cell_type": "code",
      "source": [
        "y1=np.asarray(y1)\n",
        "print(y1.shape)"
      ],
      "metadata": {
        "colab": {
          "base_uri": "https://localhost:8080/"
        },
        "id": "jfSmWpybtmMv",
        "outputId": "32618f4f-0725-4e2e-cc14-f3b60058fa13"
      },
      "execution_count": null,
      "outputs": [
        {
          "output_type": "stream",
          "name": "stdout",
          "text": [
            "(2301,)\n"
          ]
        }
      ]
    },
    {
      "cell_type": "code",
      "source": [
        "data_mainx=np.concatenate((data_x, data_x1), axis=0)\n",
        "data_mainx.shape"
      ],
      "metadata": {
        "colab": {
          "base_uri": "https://localhost:8080/"
        },
        "id": "6IJRpNMptoRP",
        "outputId": "a3aaf7fa-f897-45dd-8ef1-3db70471040c"
      },
      "execution_count": null,
      "outputs": [
        {
          "output_type": "execute_result",
          "data": {
            "text/plain": [
              "(2863, 224, 224, 3)"
            ]
          },
          "metadata": {},
          "execution_count": 14
        }
      ]
    },
    {
      "cell_type": "code",
      "source": [
        "y=np.concatenate((y2, y1), axis=0)\n",
        "y.shape"
      ],
      "metadata": {
        "colab": {
          "base_uri": "https://localhost:8080/"
        },
        "id": "Qe5YU4QStpG4",
        "outputId": "731feb4d-d11f-4c3c-ce0a-bde87ae77243"
      },
      "execution_count": null,
      "outputs": [
        {
          "output_type": "execute_result",
          "data": {
            "text/plain": [
              "(2863,)"
            ]
          },
          "metadata": {},
          "execution_count": 15
        }
      ]
    },
    {
      "cell_type": "code",
      "source": [
        "print(data_mainx.shape)\n",
        "print(y.shape)\n",
        "np.save('/content/drive/MyDrive/heart_sound_results_eval_new/database_physionet_challenge_all/x_224',data_mainx)\n",
        "np.save('/content/drive/MyDrive/heart_sound_results_eval_new/database_physionet_challenge_all/y_224',y)"
      ],
      "metadata": {
        "colab": {
          "base_uri": "https://localhost:8080/",
          "height": 217
        },
        "id": "sPTAsbivttQg",
        "outputId": "f1a0666d-21a2-452c-b475-85e0c1acdb34"
      },
      "execution_count": 4,
      "outputs": [
        {
          "output_type": "error",
          "ename": "NameError",
          "evalue": "ignored",
          "traceback": [
            "\u001b[0;31m---------------------------------------------------------------------------\u001b[0m",
            "\u001b[0;31mNameError\u001b[0m                                 Traceback (most recent call last)",
            "\u001b[0;32m<ipython-input-4-4edf426142b4>\u001b[0m in \u001b[0;36m<module>\u001b[0;34m()\u001b[0m\n\u001b[0;32m----> 1\u001b[0;31m \u001b[0mprint\u001b[0m\u001b[0;34m(\u001b[0m\u001b[0mdata_mainx\u001b[0m\u001b[0;34m.\u001b[0m\u001b[0mshape\u001b[0m\u001b[0;34m)\u001b[0m\u001b[0;34m\u001b[0m\u001b[0;34m\u001b[0m\u001b[0m\n\u001b[0m\u001b[1;32m      2\u001b[0m \u001b[0mprint\u001b[0m\u001b[0;34m(\u001b[0m\u001b[0my\u001b[0m\u001b[0;34m.\u001b[0m\u001b[0mshape\u001b[0m\u001b[0;34m)\u001b[0m\u001b[0;34m\u001b[0m\u001b[0;34m\u001b[0m\u001b[0m\n\u001b[1;32m      3\u001b[0m \u001b[0mnp\u001b[0m\u001b[0;34m.\u001b[0m\u001b[0msave\u001b[0m\u001b[0;34m(\u001b[0m\u001b[0;34m'/content/drive/MyDrive/heart_sound_results_eval_new/database_physionet_challenge_all/x_224'\u001b[0m\u001b[0;34m,\u001b[0m\u001b[0mdata_mainx\u001b[0m\u001b[0;34m)\u001b[0m\u001b[0;34m\u001b[0m\u001b[0;34m\u001b[0m\u001b[0m\n\u001b[1;32m      4\u001b[0m \u001b[0mnp\u001b[0m\u001b[0;34m.\u001b[0m\u001b[0msave\u001b[0m\u001b[0;34m(\u001b[0m\u001b[0;34m'/content/drive/MyDrive/heart_sound_results_eval_new/database_physionet_challenge_all/y_224'\u001b[0m\u001b[0;34m,\u001b[0m\u001b[0my\u001b[0m\u001b[0;34m)\u001b[0m\u001b[0;34m\u001b[0m\u001b[0;34m\u001b[0m\u001b[0m\n",
            "\u001b[0;31mNameError\u001b[0m: name 'data_mainx' is not defined"
          ]
        }
      ]
    },
    {
      "cell_type": "code",
      "source": [
        "x = np.load('/content/drive/MyDrive/heart_sound_results_eval_new/database_physionet_challenge_all/x_224.npy')\n",
        "y = np.load('/content/drive/MyDrive/heart_sound_results_eval_new/database_physionet_challenge_all/y_224.npy')"
      ],
      "metadata": {
        "id": "ljUVcGg1r90g"
      },
      "execution_count": 5,
      "outputs": []
    },
    {
      "cell_type": "code",
      "source": [
        "x_train, x_test, y_train, y_test = train_test_split(x, y, test_size=0.2, random_state=1)\n",
        "x_train, x_val, y_train, y_val = train_test_split(x_train, y_train, test_size=1/8, random_state=1)\n",
        "\n",
        "y_tr_one_hot  = np.zeros((np.array(y_train).shape[0],2))\n",
        "for i in range(np.array(y_train).shape[0]):\n",
        "  label = y_train[i]\n",
        "  y_tr_one_hot[i][int(label)] = 1\n",
        "\n",
        "y_te_one_hot  = np.zeros((np.array(y_test).shape[0],2))\n",
        "for i in range(np.array(y_test).shape[0]):\n",
        "  label = y_test[i]\n",
        "  y_te_one_hot[i][int(label)] = 1\n",
        "\n",
        "y_val_one_hot  = np.zeros((np.array(y_val).shape[0],2))\n",
        "for i in range(np.array(y_val).shape[0]):\n",
        "  label = y_val[i]\n",
        "  y_val_one_hot[i][int(label)] = 1"
      ],
      "metadata": {
        "id": "AeXlldAJsCYg"
      },
      "execution_count": 13,
      "outputs": []
    },
    {
      "cell_type": "code",
      "source": [
        "model = tf.keras.applications.ResNet50(include_top=False,input_shape=(224,224,3))\n",
        "# mark loaded layers as not trainable\n",
        "for layer in model.layers:\n",
        "\tlayer.trainable = False\n",
        "\n",
        "flat1 = Flatten()(model.layers[-1].output)\n",
        "output = Dense(2, activation='softmax')(flat1)\n",
        "model = Model(inputs=model.inputs, outputs=output)\n",
        "\n",
        "optimizer = tf.keras.optimizers.Adam(lr=0.01)\n",
        "model.compile(loss='categorical_crossentropy', optimizer='adam', metrics=['accuracy'])\n",
        "model.fit(np.array(x_train), y_tr_one_hot, validation_data=(np.array(x_val), y_val_one_hot), epochs=10, batch_size=512,verbose=1)"
      ],
      "metadata": {
        "colab": {
          "base_uri": "https://localhost:8080/"
        },
        "id": "TNjKuLGlsHPQ",
        "outputId": "269aa389-d6e2-47dc-e774-b902fd4a9f72"
      },
      "execution_count": 14,
      "outputs": [
        {
          "output_type": "stream",
          "name": "stderr",
          "text": [
            "/usr/local/lib/python3.7/dist-packages/keras/optimizer_v2/adam.py:105: UserWarning: The `lr` argument is deprecated, use `learning_rate` instead.\n",
            "  super(Adam, self).__init__(name, **kwargs)\n"
          ]
        },
        {
          "output_type": "stream",
          "name": "stdout",
          "text": [
            "Epoch 1/10\n",
            "4/4 [==============================] - 374s 96s/step - loss: 4.2489 - accuracy: 0.6440 - val_loss: 4.4706 - val_accuracy: 0.8223\n",
            "Epoch 2/10\n",
            "4/4 [==============================] - 358s 93s/step - loss: 2.9430 - accuracy: 0.7654 - val_loss: 3.9704 - val_accuracy: 0.1777\n",
            "Epoch 3/10\n",
            "4/4 [==============================] - 368s 96s/step - loss: 2.0133 - accuracy: 0.6011 - val_loss: 2.5591 - val_accuracy: 0.8223\n",
            "Epoch 4/10\n",
            "4/4 [==============================] - 368s 96s/step - loss: 2.2244 - accuracy: 0.8018 - val_loss: 0.8618 - val_accuracy: 0.8293\n",
            "Epoch 5/10\n",
            "4/4 [==============================] - 361s 93s/step - loss: 1.0801 - accuracy: 0.6001 - val_loss: 0.8919 - val_accuracy: 0.8293\n",
            "Epoch 6/10\n",
            "4/4 [==============================] - 365s 95s/step - loss: 1.0692 - accuracy: 0.8168 - val_loss: 0.7735 - val_accuracy: 0.8328\n",
            "Epoch 7/10\n",
            "4/4 [==============================] - 357s 93s/step - loss: 0.7891 - accuracy: 0.7194 - val_loss: 0.4316 - val_accuracy: 0.8432\n",
            "Epoch 8/10\n",
            "4/4 [==============================] - 363s 94s/step - loss: 0.5864 - accuracy: 0.8238 - val_loss: 0.6213 - val_accuracy: 0.8502\n",
            "Epoch 9/10\n",
            "4/4 [==============================] - 398s 106s/step - loss: 0.4410 - accuracy: 0.7783 - val_loss: 0.6731 - val_accuracy: 0.8432\n",
            "Epoch 10/10\n",
            "4/4 [==============================] - 361s 93s/step - loss: 0.3962 - accuracy: 0.8417 - val_loss: 0.5175 - val_accuracy: 0.7805\n"
          ]
        },
        {
          "output_type": "execute_result",
          "data": {
            "text/plain": [
              "<keras.callbacks.History at 0x7fcb48228890>"
            ]
          },
          "metadata": {},
          "execution_count": 14
        }
      ]
    },
    {
      "cell_type": "code",
      "source": [
        "test_loss, test_acc = model.evaluate(np.array(x_test), np.array(y_te_one_hot), verbose=0)\n",
        "print(test_acc)\n",
        "##Evaluating Sensitivity, Accuracy and Kappa scores\n",
        "y_prob = model.predict(x_test) \n",
        "Y_pred = y_prob.argmax(axis=-1)\n",
        "\n",
        "cm1 = confusion_matrix(y_test,Y_pred)\n",
        "print(\"confusion matrix \\n\",cm1)"
      ],
      "metadata": {
        "colab": {
          "base_uri": "https://localhost:8080/"
        },
        "id": "atpJOUPdHAjk",
        "outputId": "cf877532-9da5-4708-b44d-8fe11ae217e6"
      },
      "execution_count": 15,
      "outputs": [
        {
          "output_type": "stream",
          "name": "stdout",
          "text": [
            "0.7853403091430664\n",
            "confusion matrix \n",
            " [[366  97]\n",
            " [ 26  84]]\n"
          ]
        }
      ]
    },
    {
      "cell_type": "code",
      "source": [
        "precision = sklearn.metrics.precision_score(y_test,Y_pred,average='micro')\n",
        "print(precision)"
      ],
      "metadata": {
        "colab": {
          "base_uri": "https://localhost:8080/"
        },
        "id": "9FnXY_wBHCI0",
        "outputId": "6ca80e7f-2865-44f0-a528-3435adf1481b"
      },
      "execution_count": 16,
      "outputs": [
        {
          "output_type": "stream",
          "name": "stdout",
          "text": [
            "0.7853403141361257\n"
          ]
        }
      ]
    },
    {
      "cell_type": "code",
      "source": [
        "accuracy=np.diag(cm1).sum()/cm1.sum().sum()\n",
        "print(accuracy)"
      ],
      "metadata": {
        "colab": {
          "base_uri": "https://localhost:8080/"
        },
        "id": "jdxRBRrzHEEr",
        "outputId": "b2dc6330-9f89-44bf-a268-3a5ad7ddfe4a"
      },
      "execution_count": 17,
      "outputs": [
        {
          "output_type": "stream",
          "name": "stdout",
          "text": [
            "0.7853403141361257\n"
          ]
        }
      ]
    },
    {
      "cell_type": "code",
      "source": [
        "recall = sklearn.metrics.recall_score(y_test,Y_pred,average='micro')\n",
        "print(recall)"
      ],
      "metadata": {
        "id": "hvQC7QVg-utE",
        "colab": {
          "base_uri": "https://localhost:8080/"
        },
        "outputId": "409bbeb6-bc02-4620-a707-df8e4c01e7af"
      },
      "execution_count": 18,
      "outputs": [
        {
          "output_type": "stream",
          "name": "stdout",
          "text": [
            "0.7853403141361257\n"
          ]
        }
      ]
    },
    {
      "cell_type": "code",
      "source": [
        "K_cappa = sklearn.metrics.cohen_kappa_score(y_test,Y_pred)\n",
        "print(K_cappa)"
      ],
      "metadata": {
        "colab": {
          "base_uri": "https://localhost:8080/"
        },
        "id": "PPOtuheRHJW6",
        "outputId": "b3f13ea3-a821-44e1-cf7b-3474fd5aa784"
      },
      "execution_count": 19,
      "outputs": [
        {
          "output_type": "stream",
          "name": "stdout",
          "text": [
            "0.4447105725518621\n"
          ]
        }
      ]
    }
  ]
}