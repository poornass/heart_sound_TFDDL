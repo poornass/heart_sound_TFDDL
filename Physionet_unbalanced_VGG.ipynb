{
  "nbformat": 4,
  "nbformat_minor": 0,
  "metadata": {
    "colab": {
      "name": "Physionet_unbalanced_VGG.ipynb",
      "provenance": []
    },
    "kernelspec": {
      "name": "python3",
      "display_name": "Python 3"
    },
    "language_info": {
      "name": "python"
    }
  },
  "cells": [
    {
      "cell_type": "code",
      "execution_count": 1,
      "metadata": {
        "colab": {
          "base_uri": "https://localhost:8080/"
        },
        "id": "pLkAqzm7otAK",
        "outputId": "511c4bd6-655a-48b5-81db-775a803c02d8"
      },
      "outputs": [
        {
          "output_type": "stream",
          "name": "stdout",
          "text": [
            "Drive already mounted at /content/drive; to attempt to forcibly remount, call drive.mount(\"/content/drive\", force_remount=True).\n"
          ]
        }
      ],
      "source": [
        "from google.colab import drive\n",
        "drive.mount('/content/drive')"
      ]
    },
    {
      "cell_type": "code",
      "source": [
        "from numpy import mean\n",
        "from numpy import std\n",
        "import numpy as np\n",
        "from matplotlib import pyplot\n",
        "from sklearn.model_selection import KFold\n",
        "from tensorflow.keras.datasets import mnist\n",
        "from tensorflow.keras.utils import to_categorical\n",
        "from tensorflow.keras.models import Sequential\n",
        "from tensorflow.keras.layers import Conv2D\n",
        "from tensorflow.keras.layers import MaxPooling2D\n",
        "from tensorflow.keras.layers import Dense\n",
        "from tensorflow.keras.layers import Flatten\n",
        "from tensorflow.keras.optimizers import SGD\n",
        "from tensorflow.keras.layers import Dropout\n",
        "from tensorflow.keras.layers import BatchNormalization\n",
        "import tensorflow as tf\n",
        "from tensorflow.keras.models import Model\n",
        "from tensorflow.keras import backend as K\n",
        "import matplotlib.pyplot as plt\n",
        "import sklearn\n",
        "from sklearn.metrics import confusion_matrix\n",
        "from scipy.io import loadmat\n",
        "import numpy as np\n",
        "import PIL\n",
        "import cv2\n",
        "import os\n",
        "from sklearn.model_selection import train_test_split"
      ],
      "metadata": {
        "id": "KSd8C-ONo8e6"
      },
      "execution_count": 2,
      "outputs": []
    },
    {
      "cell_type": "code",
      "source": [
        "x = np.load('/content/drive/MyDrive/heart_sound_results_eval_new/database_physionet_challenge_all/x.npy')\n",
        "y = np.load('/content/drive/MyDrive/heart_sound_results_eval_new/database_physionet_challenge_all/y.npy')"
      ],
      "metadata": {
        "id": "9BGulpUbpF2S"
      },
      "execution_count": 3,
      "outputs": []
    },
    {
      "cell_type": "code",
      "source": [
        "x_train, x_test, y_train, y_test = train_test_split(x, y, test_size=0.2, random_state=1)\n",
        "x_train, x_val, y_train, y_val = train_test_split(x_train, y_train, test_size=1/8, random_state=1)\n",
        "\n",
        "y_tr_one_hot  = np.zeros((np.array(y_train).shape[0],2))\n",
        "for i in range(np.array(y_train).shape[0]):\n",
        "  label = y_train[i]\n",
        "  y_tr_one_hot[i][int(label)] = 1\n",
        "\n",
        "y_te_one_hot  = np.zeros((np.array(y_test).shape[0],2))\n",
        "for i in range(np.array(y_test).shape[0]):\n",
        "  label = y_test[i]\n",
        "  y_te_one_hot[i][int(label)] = 1\n",
        "\n",
        "y_val_one_hot  = np.zeros((np.array(y_val).shape[0],2))\n",
        "for i in range(np.array(y_val).shape[0]):\n",
        "  label = y_val[i]\n",
        "  y_val_one_hot[i][int(label)] = 1"
      ],
      "metadata": {
        "id": "7we_OxPPpN3Z"
      },
      "execution_count": 13,
      "outputs": []
    },
    {
      "cell_type": "code",
      "source": [
        "model = tf.keras.applications.VGG19(include_top=False,input_shape=(128,128,3))\n",
        "# mark loaded layers as not trainable\n",
        "for layer in model.layers:\n",
        "\tlayer.trainable = False\n",
        "# add new classifier layers\n",
        "flat1 = Flatten()(model.layers[-1].output)\n",
        "output = Dense(2, activation='softmax')(flat1)\n",
        "model = Model(inputs=model.inputs, outputs=output)\n",
        "\n",
        "optimizer = tf.keras.optimizers.Adam(lr=0.01)\n",
        "model.compile(loss='categorical_crossentropy', optimizer='adam', metrics=['accuracy'])\n",
        "model.fit(np.array(x_train), y_tr_one_hot, validation_data=(np.array(x_val), y_val_one_hot), epochs=10, batch_size=512,verbose=1)"
      ],
      "metadata": {
        "colab": {
          "base_uri": "https://localhost:8080/"
        },
        "id": "uniOIkH7pTWw",
        "outputId": "1a8479cc-90c4-4e66-a4cc-9087d1f17c90"
      },
      "execution_count": 14,
      "outputs": [
        {
          "output_type": "stream",
          "name": "stderr",
          "text": [
            "/usr/local/lib/python3.7/dist-packages/keras/optimizer_v2/adam.py:105: UserWarning: The `lr` argument is deprecated, use `learning_rate` instead.\n",
            "  super(Adam, self).__init__(name, **kwargs)\n"
          ]
        },
        {
          "output_type": "stream",
          "name": "stdout",
          "text": [
            "Epoch 1/10\n",
            "4/4 [==============================] - 491s 127s/step - loss: 5.3218 - accuracy: 0.6370 - val_loss: 4.8748 - val_accuracy: 0.8223\n",
            "Epoch 2/10\n",
            "4/4 [==============================] - 484s 126s/step - loss: 4.1881 - accuracy: 0.8003 - val_loss: 1.4202 - val_accuracy: 0.7491\n",
            "Epoch 3/10\n",
            "4/4 [==============================] - 482s 125s/step - loss: 2.5429 - accuracy: 0.5572 - val_loss: 1.1447 - val_accuracy: 0.6829\n",
            "Epoch 4/10\n",
            "4/4 [==============================] - 488s 125s/step - loss: 1.6855 - accuracy: 0.7748 - val_loss: 2.0419 - val_accuracy: 0.8258\n",
            "Epoch 5/10\n",
            "4/4 [==============================] - 486s 126s/step - loss: 1.5431 - accuracy: 0.8073 - val_loss: 1.1521 - val_accuracy: 0.6551\n",
            "Epoch 6/10\n",
            "4/4 [==============================] - 488s 127s/step - loss: 1.1785 - accuracy: 0.6515 - val_loss: 0.8746 - val_accuracy: 0.8293\n",
            "Epoch 7/10\n",
            "4/4 [==============================] - 484s 125s/step - loss: 1.0188 - accuracy: 0.8188 - val_loss: 0.8167 - val_accuracy: 0.8223\n",
            "Epoch 8/10\n",
            "4/4 [==============================] - 481s 125s/step - loss: 0.7659 - accuracy: 0.7574 - val_loss: 0.7145 - val_accuracy: 0.8118\n",
            "Epoch 9/10\n",
            "4/4 [==============================] - 481s 124s/step - loss: 0.6300 - accuracy: 0.8333 - val_loss: 0.7129 - val_accuracy: 0.8397\n",
            "Epoch 10/10\n",
            "4/4 [==============================] - 483s 125s/step - loss: 0.5369 - accuracy: 0.8213 - val_loss: 0.6571 - val_accuracy: 0.7979\n"
          ]
        },
        {
          "output_type": "execute_result",
          "data": {
            "text/plain": [
              "<keras.callbacks.History at 0x7f8a0d8d8c90>"
            ]
          },
          "metadata": {},
          "execution_count": 14
        }
      ]
    },
    {
      "cell_type": "code",
      "source": [
        "test_loss, test_acc = model.evaluate(np.array(x_test), np.array(y_te_one_hot), verbose=0)\n",
        "print(test_acc)\n",
        "##Evaluating Sensitivity, Accuracy and Kappa scores\n",
        "y_prob = model.predict(x_test) \n",
        "Y_pred = y_prob.argmax(axis=-1)\n",
        "\n",
        "cm1 = confusion_matrix(y_test,Y_pred)\n",
        "print(\"confusion matrix \\n\",cm1)"
      ],
      "metadata": {
        "colab": {
          "base_uri": "https://localhost:8080/"
        },
        "id": "ujNOZCjppXRA",
        "outputId": "01328634-7707-4c8f-a121-988504e9115f"
      },
      "execution_count": 15,
      "outputs": [
        {
          "output_type": "stream",
          "name": "stdout",
          "text": [
            "0.801047146320343\n",
            "confusion matrix \n",
            " [[376  87]\n",
            " [ 27  83]]\n"
          ]
        }
      ]
    },
    {
      "cell_type": "code",
      "source": [
        "precision = sklearn.metrics.precision_score(y_test,Y_pred,average='micro')\n",
        "print(precision)"
      ],
      "metadata": {
        "colab": {
          "base_uri": "https://localhost:8080/"
        },
        "id": "Tg_thW71pZ9p",
        "outputId": "78f96006-1212-4f5c-e9c2-9d3e25dca9a5"
      },
      "execution_count": 16,
      "outputs": [
        {
          "output_type": "stream",
          "name": "stdout",
          "text": [
            "0.8010471204188482\n"
          ]
        }
      ]
    },
    {
      "cell_type": "code",
      "source": [
        "accuracy=np.diag(cm1).sum()/cm1.sum().sum()\n",
        "print(accuracy)"
      ],
      "metadata": {
        "colab": {
          "base_uri": "https://localhost:8080/"
        },
        "id": "Kx8cKvKspbB4",
        "outputId": "7dee6652-060c-448e-8949-e1e45c888330"
      },
      "execution_count": 17,
      "outputs": [
        {
          "output_type": "stream",
          "name": "stdout",
          "text": [
            "0.8010471204188482\n"
          ]
        }
      ]
    },
    {
      "cell_type": "code",
      "source": [
        "recall = sklearn.metrics.recall_score(y_test,Y_pred,average='micro')\n",
        "print(recall)"
      ],
      "metadata": {
        "colab": {
          "base_uri": "https://localhost:8080/"
        },
        "id": "Q4a9VYzwpekg",
        "outputId": "02f3f0da-fe1b-49c2-efa4-5af4ccbaf2ab"
      },
      "execution_count": 18,
      "outputs": [
        {
          "output_type": "stream",
          "name": "stdout",
          "text": [
            "0.8010471204188482\n"
          ]
        }
      ]
    },
    {
      "cell_type": "code",
      "source": [
        "K_cappa = sklearn.metrics.cohen_kappa_score(y_test,Y_pred)\n",
        "print(K_cappa)"
      ],
      "metadata": {
        "colab": {
          "base_uri": "https://localhost:8080/"
        },
        "id": "_PrVKzeBpgfh",
        "outputId": "118af410-b894-4cd4-dc96-be1c301eecdd"
      },
      "execution_count": 19,
      "outputs": [
        {
          "output_type": "stream",
          "name": "stdout",
          "text": [
            "0.4690994798439533\n"
          ]
        }
      ]
    }
  ]
}